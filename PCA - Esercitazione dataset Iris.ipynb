{
 "cells": [
  {
   "cell_type": "markdown",
   "metadata": {},
   "source": [
    "# Analisi delle componenti principali sul dataset \"Iris\"\n",
    "\n",
    "## Caricamento del dataset"
   ]
  },
  {
   "cell_type": "code",
   "execution_count": 1,
   "metadata": {
    "collapsed": false
   },
   "outputs": [
    {
     "data": {
      "text/html": [
       "<div style=\"max-height:1000px;max-width:1500px;overflow:auto;\">\n",
       "<table border=\"1\" class=\"dataframe\">\n",
       "  <thead>\n",
       "    <tr style=\"text-align: right;\">\n",
       "      <th></th>\n",
       "      <th>0</th>\n",
       "      <th>1</th>\n",
       "      <th>2</th>\n",
       "      <th>3</th>\n",
       "      <th>0</th>\n",
       "    </tr>\n",
       "  </thead>\n",
       "  <tbody>\n",
       "    <tr>\n",
       "      <th>0  </th>\n",
       "      <td> 5.1</td>\n",
       "      <td> 3.5</td>\n",
       "      <td> 1.4</td>\n",
       "      <td> 0.2</td>\n",
       "      <td> 0</td>\n",
       "    </tr>\n",
       "    <tr>\n",
       "      <th>1  </th>\n",
       "      <td> 4.9</td>\n",
       "      <td> 3.0</td>\n",
       "      <td> 1.4</td>\n",
       "      <td> 0.2</td>\n",
       "      <td> 0</td>\n",
       "    </tr>\n",
       "    <tr>\n",
       "      <th>2  </th>\n",
       "      <td> 4.7</td>\n",
       "      <td> 3.2</td>\n",
       "      <td> 1.3</td>\n",
       "      <td> 0.2</td>\n",
       "      <td> 0</td>\n",
       "    </tr>\n",
       "    <tr>\n",
       "      <th>3  </th>\n",
       "      <td> 4.6</td>\n",
       "      <td> 3.1</td>\n",
       "      <td> 1.5</td>\n",
       "      <td> 0.2</td>\n",
       "      <td> 0</td>\n",
       "    </tr>\n",
       "    <tr>\n",
       "      <th>4  </th>\n",
       "      <td> 5.0</td>\n",
       "      <td> 3.6</td>\n",
       "      <td> 1.4</td>\n",
       "      <td> 0.2</td>\n",
       "      <td> 0</td>\n",
       "    </tr>\n",
       "    <tr>\n",
       "      <th>...</th>\n",
       "      <td>...</td>\n",
       "      <td>...</td>\n",
       "      <td>...</td>\n",
       "      <td>...</td>\n",
       "      <td>...</td>\n",
       "    </tr>\n",
       "    <tr>\n",
       "      <th>145</th>\n",
       "      <td> 6.7</td>\n",
       "      <td> 3.0</td>\n",
       "      <td> 5.2</td>\n",
       "      <td> 2.3</td>\n",
       "      <td> 2</td>\n",
       "    </tr>\n",
       "    <tr>\n",
       "      <th>146</th>\n",
       "      <td> 6.3</td>\n",
       "      <td> 2.5</td>\n",
       "      <td> 5.0</td>\n",
       "      <td> 1.9</td>\n",
       "      <td> 2</td>\n",
       "    </tr>\n",
       "    <tr>\n",
       "      <th>147</th>\n",
       "      <td> 6.5</td>\n",
       "      <td> 3.0</td>\n",
       "      <td> 5.2</td>\n",
       "      <td> 2.0</td>\n",
       "      <td> 2</td>\n",
       "    </tr>\n",
       "    <tr>\n",
       "      <th>148</th>\n",
       "      <td> 6.2</td>\n",
       "      <td> 3.4</td>\n",
       "      <td> 5.4</td>\n",
       "      <td> 2.3</td>\n",
       "      <td> 2</td>\n",
       "    </tr>\n",
       "    <tr>\n",
       "      <th>149</th>\n",
       "      <td> 5.9</td>\n",
       "      <td> 3.0</td>\n",
       "      <td> 5.1</td>\n",
       "      <td> 1.8</td>\n",
       "      <td> 2</td>\n",
       "    </tr>\n",
       "  </tbody>\n",
       "</table>\n",
       "<p>150 rows × 5 columns</p>\n",
       "</div>"
      ],
      "text/plain": [
       "       0    1    2    3  0\n",
       "0    5.1  3.5  1.4  0.2  0\n",
       "1    4.9  3.0  1.4  0.2  0\n",
       "2    4.7  3.2  1.3  0.2  0\n",
       "3    4.6  3.1  1.5  0.2  0\n",
       "4    5.0  3.6  1.4  0.2  0\n",
       "..   ...  ...  ...  ... ..\n",
       "145  6.7  3.0  5.2  2.3  2\n",
       "146  6.3  2.5  5.0  1.9  2\n",
       "147  6.5  3.0  5.2  2.0  2\n",
       "148  6.2  3.4  5.4  2.3  2\n",
       "149  5.9  3.0  5.1  1.8  2\n",
       "\n",
       "[150 rows x 5 columns]"
      ]
     },
     "execution_count": 1,
     "metadata": {},
     "output_type": "execute_result"
    }
   ],
   "source": [
    "import numpy as np\n",
    "import pandas as pd\n",
    "import matplotlib.pyplot as plt\n",
    "from mpl_toolkits.mplot3d import Axes3D\n",
    "from sklearn import datasets\n",
    "\n",
    "# Abilita la visualizzazione dei grafici all'interno del notebook.\n",
    "%matplotlib inline\n",
    "\n",
    "# Imposta alcuni parametri per la visualizzazione degli array.\n",
    "np.set_printoptions(threshold=55, edgeitems=10, suppress=True)\n",
    "pd.set_option('display.max_rows', 10)\n",
    "\n",
    "iris = datasets.load_iris()\n",
    "dataframe = pd.concat([pd.DataFrame(iris.data), pd.DataFrame(iris.target)], axis=1)\n",
    "\n",
    "dataframe"
   ]
  },
  {
   "cell_type": "markdown",
   "metadata": {},
   "source": [
    "## Esecuzione dell'analisi delle componenti principali\n",
    "\n",
    "Si effettua, di seguito, l'esecuzione della PCA mediante Scikit-learn."
   ]
  },
  {
   "cell_type": "code",
   "execution_count": 2,
   "metadata": {
    "collapsed": false
   },
   "outputs": [
    {
     "name": "stdout",
     "output_type": "stream",
     "text": [
      "Matrice degli assi principali:\n",
      "[[ 0.36158968 -0.65653988  0.58099728  0.31725455]\n",
      " [-0.08226889 -0.72971237 -0.59641809 -0.32409435]\n",
      " [ 0.85657211  0.1757674  -0.07252408 -0.47971899]\n",
      " [ 0.35884393  0.07470647 -0.54906091  0.75112056]]\n",
      "\n",
      "Percentuale di varianza cumulativa conservata dalle componenti principali:\n",
      "[ 0.92461621  0.97763178  0.99481691  1.        ]\n"
     ]
    }
   ],
   "source": [
    "from sklearn.decomposition import PCA\n",
    "\n",
    "pca = PCA()\n",
    "pca.fit(iris.data)\n",
    "\n",
    "print(\"Matrice degli assi principali:\\n{0}\".format(pca.components_.T))\n",
    "print(\"\\nPercentuale di varianza cumulativa conservata dalle componenti principali:\\n{0}\"\n",
    "      .format(np.cumsum(pca.explained_variance_ratio_)))"
   ]
  },
  {
   "cell_type": "markdown",
   "metadata": {},
   "source": [
    "La classe PCA di Scikit-learn non restituisce lo spettro della matrice di covarianza del dataset specificato.\n",
    "Calcoliamo, pertanto, gli autovalori di tale matrice partendo dalle percentuali di varianza già valutate. Tali autovalori saranno già ordinati in modo decrescente perché i valori di partenza lo erano."
   ]
  },
  {
   "cell_type": "code",
   "execution_count": 3,
   "metadata": {
    "collapsed": false
   },
   "outputs": [
    {
     "name": "stdout",
     "output_type": "stream",
     "text": [
      "Autovalori della matrice di covarianza:\n",
      "[ 4.84538856  0.27782449  0.09005756  0.02716161]\n"
     ]
    }
   ],
   "source": [
    "sk_eigenvalues = pca.explained_variance_ratio_ * np.trace(dataframe.cov())\n",
    "print(\"Autovalori della matrice di covarianza:\\n{0}\".format(sk_eigenvalues))"
   ]
  },
  {
   "cell_type": "markdown",
   "metadata": {},
   "source": [
    "Si mostra, di seguito, uno screeplot degli autovalori determinati dalla PCA."
   ]
  },
  {
   "cell_type": "code",
   "execution_count": 4,
   "metadata": {
    "collapsed": false
   },
   "outputs": [
    {
     "data": {
      "image/png": "[encoded data removed]",
      "text/plain": [
       "<matplotlib.figure.Figure at 0x7f4a5fd641d0>"
      ]
     },
     "metadata": {},
     "output_type": "display_data"
    }
   ],
   "source": [
    "def draw_screeplot(eigenvalues, logarithm=False):\n",
    "    \"\"\"Disegna uno screeplot degli autovalori determinati dalla PCA.\n",
    "\n",
    "    Args:\n",
    "        eigenvalues: autovalori determinati dalla PCA.\n",
    "        logarithm: True se si vuole uno screeplot logaritmico, False altrimenti.\n",
    "\n",
    "    \"\"\"\n",
    "    plt.figure()\n",
    "    indexes = np.arange(len(eigenvalues)) + 1\n",
    "    if logarithm:\n",
    "        plt.plot(indexes, np.log(eigenvalues), 'o-')\n",
    "    else:\n",
    "        plt.plot(indexes, eigenvalues, 'o-')\n",
    "    plt.xlabel(\"Componente principale\")\n",
    "    plt.ylabel(\"Autovalore\")\n",
    "    plt.xticks(indexes)\n",
    "    plt.show()\n",
    "\n",
    "draw_screeplot(sk_eigenvalues)"
   ]
  },
  {
   "cell_type": "markdown",
   "metadata": {},
   "source": [
    "Determiniamo, di seguito, la proiezione del dataset sulle prime due componenti determinate dalla PCA."
   ]
  },
  {
   "cell_type": "code",
   "execution_count": 5,
   "metadata": {
    "collapsed": false
   },
   "outputs": [
    {
     "data": {
      "text/plain": [
       "array([[-2.68420713],\n",
       "       [-2.71539062],\n",
       "       [-2.88981954],\n",
       "       [-2.7464372 ],\n",
       "       [-2.72859298],\n",
       "       [-2.27989736],\n",
       "       [-2.82089068],\n",
       "       [-2.62648199],\n",
       "       [-2.88795857],\n",
       "       [-2.67384469],\n",
       "       ..., \n",
       "       [ 2.31430339],\n",
       "       [ 1.92245088],\n",
       "       [ 1.41407223],\n",
       "       [ 2.56332271],\n",
       "       [ 2.41939122],\n",
       "       [ 1.94401705],\n",
       "       [ 1.52566363],\n",
       "       [ 1.76404594],\n",
       "       [ 1.90162908],\n",
       "       [ 1.38966613]])"
      ]
     },
     "execution_count": 5,
     "metadata": {},
     "output_type": "execute_result"
    }
   ],
   "source": [
    "pca = PCA(n_components=1)\n",
    "pca_components = pca.fit_transform(iris.data)\n",
    "\n",
    "pca_components"
   ]
  },
  {
   "cell_type": "markdown",
   "metadata": {},
   "source": [
    "Si mostra, di seguito, il cerchio di correlazione tra le feature e le componenti principali determinate dalla PCA."
   ]
  },
  {
   "cell_type": "code",
   "execution_count": 6,
   "metadata": {
    "collapsed": false
   },
   "outputs": [
    {
     "ename": "NameError",
     "evalue": "name 'pca_components_3d' is not defined",
     "output_type": "error",
     "traceback": [
      "\u001b[1;31m---------------------------------------------------------------------------\u001b[0m",
      "\u001b[1;31mNameError\u001b[0m                                 Traceback (most recent call last)",
      "\u001b[1;32m<ipython-input-6-6bbb3d4dd501>\u001b[0m in \u001b[0;36m<module>\u001b[1;34m()\u001b[0m\n\u001b[0;32m     41\u001b[0m     \u001b[0mplt\u001b[0m\u001b[1;33m.\u001b[0m\u001b[0mshow\u001b[0m\u001b[1;33m(\u001b[0m\u001b[1;33m)\u001b[0m\u001b[1;33m\u001b[0m\u001b[0m\n\u001b[0;32m     42\u001b[0m \u001b[1;33m\u001b[0m\u001b[0m\n\u001b[1;32m---> 43\u001b[1;33m \u001b[0mprojections\u001b[0m \u001b[1;33m=\u001b[0m \u001b[0mpca_components_3d\u001b[0m\u001b[1;33m\u001b[0m\u001b[0m\n\u001b[0m\u001b[0;32m     44\u001b[0m \u001b[0mcorrelations\u001b[0m \u001b[1;33m=\u001b[0m \u001b[0mpca_correlations\u001b[0m\u001b[1;33m(\u001b[0m\u001b[0miris\u001b[0m\u001b[1;33m.\u001b[0m\u001b[0mdata\u001b[0m\u001b[1;33m,\u001b[0m \u001b[0mpca_components_3d\u001b[0m\u001b[1;33m[\u001b[0m\u001b[1;33m:\u001b[0m\u001b[1;33m,\u001b[0m \u001b[1;36m0\u001b[0m\u001b[1;33m]\u001b[0m\u001b[1;33m,\u001b[0m \u001b[0mpca_components_3d\u001b[0m\u001b[1;33m[\u001b[0m\u001b[1;33m:\u001b[0m\u001b[1;33m,\u001b[0m \u001b[1;36m1\u001b[0m\u001b[1;33m]\u001b[0m\u001b[1;33m)\u001b[0m\u001b[1;33m\u001b[0m\u001b[0m\n\u001b[0;32m     45\u001b[0m \u001b[0mprint\u001b[0m\u001b[1;33m(\u001b[0m\u001b[1;34m\"Coefficienti di correlazione:\\n{0}\"\u001b[0m\u001b[1;33m.\u001b[0m\u001b[0mformat\u001b[0m\u001b[1;33m(\u001b[0m\u001b[0mcorrelations\u001b[0m\u001b[1;33m)\u001b[0m\u001b[1;33m)\u001b[0m\u001b[1;33m\u001b[0m\u001b[0m\n",
      "\u001b[1;31mNameError\u001b[0m: name 'pca_components_3d' is not defined"
     ]
    }
   ],
   "source": [
    "from scipy.stats import pearsonr\n",
    "\n",
    "def pca_correlations(dataset, principal_component_1, principal_component_2):\n",
    "    \"\"\"Calcola le correlazioni tra le feature e le prime due componenti principali determinate dalla PCA.\n",
    "\n",
    "    Args:\n",
    "        dataset: matrice costituita sulle righe dai campioni e sulle colonne dalle feature.\n",
    "        principal_component_1: prima componente principale determinata dalla PCA.\n",
    "        principal_component_2: seconda componente principale determinata dalla PCA.\n",
    "\n",
    "    Returns:\n",
    "        correlations: matrice avente come righe le correlazioni relative a ciascuna feature.\n",
    "\n",
    "    \"\"\"\n",
    "    correlations = []\n",
    "    for feature in dataset.T:\n",
    "        correlation_comp_1 = pearsonr(feature, principal_component_1)[0]\n",
    "        correlation_comp_2 = pearsonr(feature, principal_component_2)[0]\n",
    "        correlations.append([correlation_comp_1, correlation_comp_2])\n",
    "    correlations = np.array(correlations)\n",
    "    return correlations\n",
    "\n",
    "def draw_correlation_circle(correlations):\n",
    "    \"\"\"Disegna il cerchio delle correlazioni a partire dalla matrice delle correlazioni specificata.\n",
    "\n",
    "    Args:\n",
    "        correlations:  matrice avente come righe le correlazioni relative a ciascuna feature.\n",
    "\n",
    "    \"\"\"\n",
    "    fig, ax = plt.subplots()\n",
    "    plt.scatter(correlations[:, 0], correlations[:, 1])\n",
    "    for i, xy in enumerate(zip(correlations[:, 0], correlations[:, 1])):\n",
    "        ax.annotate(\"X{0}\".format(i), xy=xy) \n",
    "    circle = plt.Circle((0,0),1, facecolor='none')\n",
    "    fig.gca().add_artist(circle)\n",
    "    ax.set_aspect('equal')\n",
    "    ax.set_xlim(-1, 1)\n",
    "    ax.set_ylim(-1, 1)\n",
    "    plt.xlabel('PC1')\n",
    "    plt.ylabel('PC2')\n",
    "    plt.show()\n",
    "\n",
    "projections = pca_components_3d\n",
    "correlations = pca_correlations(iris.data, pca_components_3d[:, 0], pca_components_3d[:, 1])\n",
    "print(\"Coefficienti di correlazione:\\n{0}\".format(correlations))\n",
    "draw_correlation_circle(correlations)"
   ]
  },
  {
   "cell_type": "markdown",
   "metadata": {},
   "source": [
    "Visualizziamo, a scopo esplorativo, il dataset ottenuto considerando le prime 3 componenti principali determinate dalla PCA."
   ]
  },
  {
   "cell_type": "code",
   "execution_count": null,
   "metadata": {
    "collapsed": false
   },
   "outputs": [],
   "source": [
    "pca = PCA(n_components=3)\n",
    "pca_components_3d = pca.fit_transform(iris.data)\n",
    "\n",
    "fig = plt.figure()\n",
    "ax = Axes3D(fig)\n",
    "targets = iris.target\n",
    "ax.scatter(pca_components_3d[:, 0], pca_components_3d[:, 1], pca_components_3d[:, 2], c=targets, cmap=plt.cm.rainbow)\n",
    "ax.set_xlabel(\"X1\")\n",
    "ax.set_ylabel(\"X2\")\n",
    "ax.set_zlabel(\"X3\")\n",
    "plt.show()"
   ]
  },
  {
   "cell_type": "code",
   "execution_count": null,
   "metadata": {
    "collapsed": true
   },
   "outputs": [],
   "source": []
  }
 ],
 "metadata": {
  "kernelspec": {
   "display_name": "Python 3",
   "language": "python",
   "name": "python3"
  },
  "language_info": {
   "codemirror_mode": {
    "name": "ipython",
    "version": 3
   },
   "file_extension": ".py",
   "mimetype": "text/x-python",
   "name": "python",
   "nbconvert_exporter": "python",
   "pygments_lexer": "ipython3",
   "version": "3.4.3"
  }
 },
 "nbformat": 4,
 "nbformat_minor": 0
}
