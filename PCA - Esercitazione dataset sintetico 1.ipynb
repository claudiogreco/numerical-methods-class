{
 "cells": [
  {
   "cell_type": "markdown",
   "metadata": {},
   "source": [
    "# Analisi delle componenti principali sul dataset sintetico 1\n",
    "\n",
    "## Generazione del dataset sintetico"
   ]
  },
  {
   "cell_type": "code",
   "execution_count": 1,
   "metadata": {
    "collapsed": true
   },
   "outputs": [],
   "source": [
    "import numpy as np\n",
    "import pandas as pd\n",
    "from matplotlib import pyplot as plt\n",
    "\n",
    "# Abilita la visualizzazione dei grafici all'interno del notebook.\n",
    "%matplotlib inline\n",
    "\n",
    "# Imposta alcuni parametri per la visualizzazione degli array.\n",
    "np.set_printoptions(threshold=55, edgeitems=10)\n",
    "\n",
    "# Specifica il numero di righe del dataset sintetico da generare.\n",
    "DATASET_SIZE = 1000\n",
    "\n",
    "# Genera un dataset sintetico con due colonne [x1 x2] dove:\n",
    "# x1 è campionata da una distribuzione normale con media 0 e varianza 1.\n",
    "# x2 è calcolata come x2 = 0.995 * x1 + 0.25 * e2 dove:\n",
    "# e2 è campionata da una distribuzione normale con media 0 e varianza 1.\n",
    "# Tale dataset sintetico presenterà feature x1 e x2 con alta covarianza.\n",
    "x1 = np.random.randn(DATASET_SIZE)\n",
    "e2 = np.random.randn(DATASET_SIZE)\n",
    "x2 = 0.995 * x1 + 0.25 * e2\n",
    "dataset = np.hstack([x1.reshape(DATASET_SIZE, 1), x2.reshape(DATASET_SIZE, 1)])\n",
    "dataframe = pd.DataFrame(dataset, columns=[\"X1\", \"X2\"])"
   ]
  },
  {
   "cell_type": "markdown",
   "metadata": {},
   "source": [
    "## Raccolta di informazioni sul dataset generato"
   ]
  },
  {
   "cell_type": "code",
   "execution_count": 2,
   "metadata": {
    "collapsed": false
   },
   "outputs": [
    {
     "data": {
      "text/plain": [
       "X1    0.024147\n",
       "X2    0.031124\n",
       "dtype: float64"
      ]
     },
     "execution_count": 2,
     "metadata": {},
     "output_type": "execute_result"
    }
   ],
   "source": [
    "# Calcola la media delle variabili del dataset.\n",
    "# Un'altra possibilità è np.mean(dataset, axis=0)\n",
    "dataframe.mean()"
   ]
  },
  {
   "cell_type": "code",
   "execution_count": 3,
   "metadata": {
    "collapsed": false
   },
   "outputs": [
    {
     "data": {
      "text/plain": [
       "X1    0.965774\n",
       "X2    1.036761\n",
       "dtype: float64"
      ]
     },
     "execution_count": 3,
     "metadata": {},
     "output_type": "execute_result"
    }
   ],
   "source": [
    "# Calcola la varianza delle variabili del dataset.\n",
    "# Un'altra possibilità è np.var(dataset, axis=0)\n",
    "dataframe.var()"
   ]
  },
  {
   "cell_type": "code",
   "execution_count": 4,
   "metadata": {
    "collapsed": false
   },
   "outputs": [
    {
     "data": {
      "text/plain": [
       "X1    0.982738\n",
       "X2    1.018215\n",
       "dtype: float64"
      ]
     },
     "execution_count": 4,
     "metadata": {},
     "output_type": "execute_result"
    }
   ],
   "source": [
    "# Calcola la deviazione standard delle variabili del dataset.\n",
    "# Un'altra possibilità è np.std(dataset, axis=0)\n",
    "dataframe.std()"
   ]
  },
  {
   "cell_type": "code",
   "execution_count": 5,
   "metadata": {
    "collapsed": false
   },
   "outputs": [
    {
     "data": {
      "text/html": [
       "<div style=\"max-height:1000px;max-width:1500px;overflow:auto;\">\n",
       "<table border=\"1\" class=\"dataframe\">\n",
       "  <thead>\n",
       "    <tr style=\"text-align: right;\">\n",
       "      <th></th>\n",
       "      <th>X1</th>\n",
       "      <th>X2</th>\n",
       "    </tr>\n",
       "  </thead>\n",
       "  <tbody>\n",
       "    <tr>\n",
       "      <th>X1</th>\n",
       "      <td> 0.965774</td>\n",
       "      <td> 0.969203</td>\n",
       "    </tr>\n",
       "    <tr>\n",
       "      <th>X2</th>\n",
       "      <td> 0.969203</td>\n",
       "      <td> 1.036761</td>\n",
       "    </tr>\n",
       "  </tbody>\n",
       "</table>\n",
       "</div>"
      ],
      "text/plain": [
       "          X1        X2\n",
       "X1  0.965774  0.969203\n",
       "X2  0.969203  1.036761"
      ]
     },
     "execution_count": 5,
     "metadata": {},
     "output_type": "execute_result"
    }
   ],
   "source": [
    "# Calcola la matrice di covarianza del dataset.\n",
    "# Un'altra possibilità è np.cov(dataset.T)\n",
    "dataframe.cov()"
   ]
  },
  {
   "cell_type": "code",
   "execution_count": 6,
   "metadata": {
    "collapsed": false
   },
   "outputs": [
    {
     "data": {
      "text/html": [
       "<div style=\"max-height:1000px;max-width:1500px;overflow:auto;\">\n",
       "<table border=\"1\" class=\"dataframe\">\n",
       "  <thead>\n",
       "    <tr style=\"text-align: right;\">\n",
       "      <th></th>\n",
       "      <th>X1</th>\n",
       "      <th>X2</th>\n",
       "    </tr>\n",
       "  </thead>\n",
       "  <tbody>\n",
       "    <tr>\n",
       "      <th>X1</th>\n",
       "      <td> 1.000000</td>\n",
       "      <td> 0.968585</td>\n",
       "    </tr>\n",
       "    <tr>\n",
       "      <th>X2</th>\n",
       "      <td> 0.968585</td>\n",
       "      <td> 1.000000</td>\n",
       "    </tr>\n",
       "  </tbody>\n",
       "</table>\n",
       "</div>"
      ],
      "text/plain": [
       "          X1        X2\n",
       "X1  1.000000  0.968585\n",
       "X2  0.968585  1.000000"
      ]
     },
     "execution_count": 6,
     "metadata": {},
     "output_type": "execute_result"
    }
   ],
   "source": [
    "# Calcola la matrice di correlazione del dataset.\n",
    "# Un'altra possibilità è np.corrcoef(dataset.T)\n",
    "dataframe.corr()"
   ]
  },
  {
   "cell_type": "code",
   "execution_count": 7,
   "metadata": {
    "collapsed": false
   },
   "outputs": [
    {
     "data": {
      "image/png": "[encoded data removed]",
      "text/plain": [
       "<matplotlib.figure.Figure at 0x7fd2b85adc50>"
      ]
     },
     "metadata": {},
     "output_type": "display_data"
    }
   ],
   "source": [
    "# Disegna il grafico di dispersione del dataset.\n",
    "plt.figure()\n",
    "plt.scatter(dataset[:, 0], dataset[:, 1])\n",
    "plt.xlabel('X1')\n",
    "plt.ylabel('X2')\n",
    "plt.show()"
   ]
  },
  {
   "cell_type": "markdown",
   "metadata": {},
   "source": [
    "## Analisi delle componenti principali\n",
    "\n",
    "L'analisi delle componenti principali richiede che il dataset sia stato centrato rispetto alla media.\n",
    "\n",
    "Ciò equivale a calcolare centered_dataset = dataset - np.mean(dataset, axis=0).\n",
    "\n",
    "Si effettua, di seguito, tale operazione utilizzando Scikit-learn."
   ]
  },
  {
   "cell_type": "code",
   "execution_count": 8,
   "metadata": {
    "collapsed": true
   },
   "outputs": [],
   "source": [
    "# Se si volesse normalizzare anche rispetto alla deviazione standard,\n",
    "# bisognerebbe impostare il parametro with_std uguale a True.\n",
    "from sklearn.preprocessing import StandardScaler\n",
    "centered_dataset = StandardScaler(with_std=False).fit_transform(dataframe)"
   ]
  },
  {
   "cell_type": "markdown",
   "metadata": {},
   "source": [
    "### Metodo 1: implementazione ed esecuzione della PCA mediante NumPy\n",
    "Si effettua, di seguito, l'implementazione e l'esecuzione della PCA mediante NumPy.\n",
    "L'implementazione è stata effettuata in due modi diversi:\n",
    "- principal_component_analysis: effettua la PCA determinando e riordinando autovettori e autovalori della matrice di covarianza del dataset.\n",
    "- principal_component_analysis_svd: effettua la PCA direttamente a partire dalla decomposizione ai valori singolari del dataset.\n",
    "\n",
    "N.B.: il segno dei risultati può differire tra le diverse implementazioni della PCA, dato che esso dipende dal verso degli assi principali individuati.\n",
    "\n",
    "È preferibile implementare la PCA mediante SVD in quanto in tale maniera non si deve effettuare il calcolo esplicito della matrice di covarianza, da cui possono derivare problemi di stabilità numerica. Una matrice che, sotto tale aspetto, risulta problematica è, ad esempio, la matrice di Läuchli."
   ]
  },
  {
   "cell_type": "code",
   "execution_count": 9,
   "metadata": {
    "collapsed": false
   },
   "outputs": [
    {
     "name": "stdout",
     "output_type": "stream",
     "text": [
      "Matrice degli assi principali:\n",
      "[[-0.6940471  0.7199296]\n",
      " [-0.7199296 -0.6940471]]\n",
      "\n",
      "Autovalori:\n",
      "[ 1.96914876  0.03138358]\n"
     ]
    }
   ],
   "source": [
    "def principal_component_analysis(dataset, k=None):\n",
    "    \"\"\"Effettua la PCA sulla matrice di covarianza di un dataset.\n",
    "\n",
    "    Si assume che il dataset sia stato precedentemente centrato rispetto alla media.\n",
    "    Se si volesse effettuare la PCA sulla matrice di correlazione del dataset,\n",
    "    basterebbe normalizzare il dataset rispetto alla deviazione standard\n",
    "    e poi applicare la PCA sulla matrice di covarianza di tale dataset.\n",
    "\n",
    "    Args:\n",
    "        dataset: matrice costituita sulle righe dai campioni e sulle colonne dalle feature.\n",
    "        k: None se non si vuole troncare, altrimenti numero di componenti principali da considerare.\n",
    "\n",
    "    Returns:\n",
    "        principal_axes: matrice avente come colonne gli assi principali determinati dalla PCA.\n",
    "        eigenvalues: autovalori determinati dalla PCA.\n",
    "\n",
    "    \"\"\"\n",
    "    # Calcola la matrice di covarianza del dataset.\n",
    "    cov_matrix = np.cov(dataset.T)\n",
    "\n",
    "    # Calcola autovalori e autovettori del dataset.\n",
    "    eigenvalues, eigenvectors = np.linalg.eig(cov_matrix)\n",
    "\n",
    "    # Ordina in modo decrescente le autocoppie rispetto ai loro autovalori.\n",
    "    indexes = np.argsort(-eigenvalues)\n",
    "    eigenvalues = eigenvalues[indexes]\n",
    "    principal_axes = eigenvectors[:, indexes]\n",
    "\n",
    "    # Effettua il troncamento se k è diverso da None.\n",
    "    if k is not None:\n",
    "        principal_axes = principal_axes[:, :k]\n",
    "\n",
    "    # Restituisce la matrice degli assi principali e il vettore degli autovalori.\n",
    "    return [principal_axes, eigenvalues]\n",
    "\n",
    "def principal_component_analysis_svd(dataset, k=None):\n",
    "    \"\"\"Effettua la PCA sulla matrice di covarianza di un dataset mediante la SVD.\n",
    "\n",
    "    Si assume che il dataset sia stato precedentemente centrato rispetto alla media.\n",
    "    Se si volesse effettuare la PCA sulla matrice di correlazione del dataset,\n",
    "    basterebbe normalizzare il dataset rispetto alla deviazione standard\n",
    "    e poi applicare la PCA sulla matrice di covarianza di tale dataset.\n",
    "\n",
    "    Args:\n",
    "        dataset: matrice costituita sulle righe dai campioni e sulle colonne dalle feature.\n",
    "        k: None se non si vuole troncare, altrimenti numero di componenti principali da considerare.\n",
    "\n",
    "    Returns:\n",
    "        principal_axes: matrice avente come colonne gli assi principali determinati dalla PCA.\n",
    "        eigenvalues: autovalori determinati dalla PCA.\n",
    "\n",
    "    \"\"\"\n",
    "    # Calcola la decomposizione ai valori singolari del dataset.\n",
    "    U, S, V = np.linalg.svd(dataset, full_matrices=False)\n",
    "\n",
    "    # Determina gli assi principali.\n",
    "    principal_axes = V.T\n",
    "\n",
    "    # Determina gli autovalori.\n",
    "    eigenvalues = (S ** 2) / dataset.shape[0]\n",
    "\n",
    "    # Restituisce la matrice degli assi principali e il vettore degli autovalori.\n",
    "    return [principal_axes, eigenvalues]\n",
    "\n",
    "def pca_projections(dataset, principal_axes):\n",
    "    \"\"\"Proietta un dataset sugli assi principali determinando le componenti principali.\n",
    "\n",
    "    Args:\n",
    "        dataset: matrice costituita sulle righe dai campioni e sulle colonne dalle feature.\n",
    "        principal_axes: matrice avente come colonne gli assi principali determinati dalla PCA.\n",
    "\n",
    "    Returns:\n",
    "        pca_components: matrice avente come colonne le componenti principali determinate dalla PCA.\n",
    "\n",
    "    \"\"\"\n",
    "    pca_components = dataset.dot(principal_axes)\n",
    "    return pca_components\n",
    "\n",
    "# Effettua la PCA sulla matrice di covarianza del dataset mediante la SVD.\n",
    "principal_axes, eigenvalues = principal_component_analysis_svd(centered_dataset)\n",
    "print(\"Matrice degli assi principali:\\n{0}\".format(principal_axes))\n",
    "print(\"\\nAutovalori:\\n{0}\".format(eigenvalues))\n",
    "\n",
    "# Effettua la PCA sulla matrice di covarianza del dataset.\n",
    "# principal_axes, eigenvalues = principal_component_analysis(centered_dataset)\n",
    "# print(\"\\nMatrice degli assi principali:\\n\", principal_axes)\n",
    "# print(\"\\nAutovalori:\\n\", eigenvalues)"
   ]
  },
  {
   "cell_type": "markdown",
   "metadata": {},
   "source": [
    "Si mostra, di seguito, un grafico di dispersione evidenziando gli assi principali determinati dalla PCA."
   ]
  },
  {
   "cell_type": "code",
   "execution_count": 10,
   "metadata": {
    "collapsed": false
   },
   "outputs": [
    {
     "data": {
      "image/png": "[encoded data removed]",
      "text/plain": [
       "<matplotlib.figure.Figure at 0x7fd2af631ed0>"
      ]
     },
     "metadata": {},
     "output_type": "display_data"
    }
   ],
   "source": [
    "def draw_principal_axes(x1, x2, principal_axes, eigenvalues):\n",
    "    \"\"\"Disegna un grafico di dispersione evidenziando gli assi principali determinati dalla PCA.\n",
    "\n",
    "    Args:\n",
    "        x1: prima variabile da disegnare.\n",
    "        x2: seconda variabile da disegnare.\n",
    "        principal_axes: matrice avente come colonne gli assi principali determinati dalla PCA.\n",
    "        eigenvalues: autovalori determinati dalla PCA.\n",
    "\n",
    "    \"\"\"\n",
    "    fig, ax = plt.subplots()\n",
    "    mu0 = np.mean(x1)\n",
    "    mu1 = np.mean(x2)\n",
    "    plt.scatter(x1, x2)\n",
    "    axis0 = (principal_axes[:, 0]) * np.sqrt(eigenvalues[0])\n",
    "    axis1 = (principal_axes[:, 1]) * np.sqrt(eigenvalues[1])\n",
    "    plt.arrow(mu0, mu1, axis0[0], axis0[1], color='r', linewidth=1.5, head_width=0.3, head_length=0.4)\n",
    "    plt.arrow(mu0, mu1, axis1[0], axis1[1], color='r', linewidth=1.5, head_width=0.3, head_length=0.4)\n",
    "    ax.set_aspect('equal')\n",
    "    ax.set_xlim([-4,4])\n",
    "    ax.set_ylim([-4,4])\n",
    "    plt.xlabel('X1')\n",
    "    plt.ylabel('X2')\n",
    "    plt.show()\n",
    "\n",
    "draw_principal_axes(centered_dataset[:, 0], centered_dataset[:, 1], principal_axes, eigenvalues)"
   ]
  },
  {
   "cell_type": "markdown",
   "metadata": {},
   "source": [
    "Si mostra, di seguito, il cerchio di correlazione tra le feature e le componenti principali determinate dalla PCA."
   ]
  },
  {
   "cell_type": "code",
   "execution_count": 11,
   "metadata": {
    "collapsed": false
   },
   "outputs": [
    {
     "name": "stdout",
     "output_type": "stream",
     "text": [
      "Coefficienti di correlazione:\n",
      "[[-0.99153448  0.12984369]\n",
      " [-0.99267514 -0.12081421]]\n"
     ]
    },
    {
     "data": {
      "image/png": "[encoded data removed]",
      "text/plain": [
       "<matplotlib.figure.Figure at 0x7fd2b845a310>"
      ]
     },
     "metadata": {},
     "output_type": "display_data"
    }
   ],
   "source": [
    "from scipy.stats import pearsonr\n",
    "\n",
    "def pca_correlations(dataset, principal_component_1, principal_component_2):\n",
    "    \"\"\"Calcola le correlazioni tra le feature e le prime due componenti principali determinate dalla PCA.\n",
    "\n",
    "    Args:\n",
    "        dataset: matrice costituita sulle righe dai campioni e sulle colonne dalle feature.\n",
    "        principal_component_1: prima componente principale determinata dalla PCA.\n",
    "        principal_component_2: seconda componente principale determinata dalla PCA.\n",
    "\n",
    "    Returns:\n",
    "        correlations: matrice avente come righe le correlazioni relative a ciascuna feature.\n",
    "\n",
    "    \"\"\"\n",
    "    correlations = []\n",
    "    for feature in dataset.T:\n",
    "        correlation_comp_1 = pearsonr(feature, principal_component_1)[0]\n",
    "        correlation_comp_2 = pearsonr(feature, principal_component_2)[0]\n",
    "        correlations.append([correlation_comp_1, correlation_comp_2])\n",
    "    correlations = np.array(correlations)\n",
    "    return correlations\n",
    "\n",
    "def draw_correlation_circle(correlations):\n",
    "    \"\"\"Disegna il cerchio delle correlazioni a partire dalla matrice delle correlazioni specificata.\n",
    "\n",
    "    Args:\n",
    "        correlations:  matrice avente come righe le correlazioni relative a ciascuna feature.\n",
    "\n",
    "    \"\"\"\n",
    "    fig, ax = plt.subplots()\n",
    "    plt.scatter(correlations[:, 0], correlations[:, 1])\n",
    "    for i, xy in enumerate(zip(correlations[:, 0], correlations[:, 1])):\n",
    "        ax.annotate(\"X{0}\".format(i), xy=xy) \n",
    "    circle = plt.Circle((0,0),1, facecolor='none')\n",
    "    fig.gca().add_artist(circle)\n",
    "    ax.set_aspect('equal')\n",
    "    ax.set_xlim(-1, 1)\n",
    "    ax.set_ylim(-1, 1)\n",
    "    plt.xlabel('PC1')\n",
    "    plt.ylabel('PC2')\n",
    "    plt.show()\n",
    "\n",
    "projections = pca_projections(centered_dataset, principal_axes[:, :2])\n",
    "correlations = pca_correlations(centered_dataset, projections[:, 0], projections[:, 1])\n",
    "print(\"Coefficienti di correlazione:\\n{0}\".format(correlations))\n",
    "draw_correlation_circle(correlations)"
   ]
  },
  {
   "cell_type": "markdown",
   "metadata": {},
   "source": [
    "Si mostra, di seguito, uno screeplot degli autovalori determinati dalla PCA."
   ]
  },
  {
   "cell_type": "code",
   "execution_count": 12,
   "metadata": {
    "collapsed": false
   },
   "outputs": [
    {
     "data": {
      "image/png": "[encoded data removed]",
      "text/plain": [
       "<matplotlib.figure.Figure at 0x7fd2af62a990>"
      ]
     },
     "metadata": {},
     "output_type": "display_data"
    }
   ],
   "source": [
    "def draw_screeplot(eigenvalues, logarithm=False):\n",
    "    \"\"\"Disegna uno screeplot degli autovalori determinati dalla PCA.\n",
    "\n",
    "    Args:\n",
    "        eigenvalues: autovalori determinati dalla PCA.\n",
    "        logarithm: True se si vuole uno screeplot logaritmico, False altrimenti.\n",
    "\n",
    "    \"\"\"\n",
    "    plt.figure()\n",
    "    indexes = np.arange(len(eigenvalues)) + 1\n",
    "    if logarithm:\n",
    "        plt.plot(indexes, np.log(eigenvalues), 'o-')\n",
    "    else:\n",
    "        plt.plot(indexes, eigenvalues, 'o-')\n",
    "    plt.xlabel(\"Componente principale\")\n",
    "    plt.ylabel(\"Autovalore\")\n",
    "    plt.xticks(indexes)\n",
    "    plt.show()\n",
    "\n",
    "draw_screeplot(eigenvalues)"
   ]
  },
  {
   "cell_type": "markdown",
   "metadata": {},
   "source": [
    "Si mostrano, di seguito, le varianze cumulative conservate dalle componenti principali ottenute con la PCA."
   ]
  },
  {
   "cell_type": "code",
   "execution_count": 13,
   "metadata": {
    "collapsed": false
   },
   "outputs": [
    {
     "name": "stdout",
     "output_type": "stream",
     "text": [
      "Eigenvalue 0\t\t1.96914875571\n",
      "Cumulative variance:\t0.984312387558\n",
      "\n",
      "Eigenvalue 1\t\t0.0313835758965\n",
      "Cumulative variance:\t1.0\n",
      "\n"
     ]
    }
   ],
   "source": [
    "def cumulative_variances(eigenvalues):\n",
    "    \"\"\"Calcola le varianze cumulative conservate dalle componenti principali determinate dalla PCA.\n",
    "\n",
    "    Args:\n",
    "        eigenvalues: autovalori determinati dalla PCA.\n",
    "\n",
    "    Returns:\n",
    "        cumulative_vars: varianze cumulative conservate dalle componenti principali determinate dalla PCA.\n",
    "\n",
    "    \"\"\"\n",
    "    cumulative_vars = np.cumsum(eigenvalues) / np.sum(eigenvalues)\n",
    "    return cumulative_vars\n",
    "\n",
    "cumulative_vars = cumulative_variances(eigenvalues)\n",
    "for i, eigenvalue in enumerate(eigenvalues):\n",
    "    print(\"Autovalore {0}\\t\\t{1}\".format(i, eigenvalue))\n",
    "    print(\"Varianza cumulativa:\\t{0}\\n\".format(cumulative_vars[i]))"
   ]
  },
  {
   "cell_type": "markdown",
   "metadata": {},
   "source": [
    "Calcola le proiezioni del dataset rispetto al solo primo asse principale, in quanto esso conserva quasi tutta l'informazione presente nel dataset considerato. Dato che è stato considerato solo un asse principale, tali proiezioni giacciono su una retta."
   ]
  },
  {
   "cell_type": "code",
   "execution_count": 14,
   "metadata": {
    "collapsed": false
   },
   "outputs": [
    {
     "name": "stdout",
     "output_type": "stream",
     "text": [
      "\n",
      "Proiezioni nel nuovo sottospazio vettoriale:\n",
      "[[-0.09623088]\n",
      " [ 1.65791759]\n",
      " [-0.49357593]\n",
      " [-0.94081657]\n",
      " [ 3.51623171]\n",
      " [-2.06011313]\n",
      " [ 2.43794292]\n",
      " [ 0.19712904]\n",
      " [-0.71472746]\n",
      " [-0.13311599]\n",
      " ..., \n",
      " [ 1.19475469]\n",
      " [-0.93386328]\n",
      " [-0.84235631]\n",
      " [ 0.94761126]\n",
      " [ 0.1869546 ]\n",
      " [-0.90256814]\n",
      " [-0.94090271]\n",
      " [-0.387451  ]\n",
      " [-0.08188043]\n",
      " [-0.9320618 ]]\n"
     ]
    }
   ],
   "source": [
    "# Le proiezioni sono già state calcolate per disegnare il cerchio delle correlazioni,\n",
    "# quindi anziché ricalcolarle si considera semplicemente la prima colonna della matrice delle proiezioni.\n",
    "# Le proiezioni potrebbero essere, eventualmente, ricalcolate nel seguente modo:\n",
    "# pca_components = pca_projections(centered_dataset, principal_axes[:, 0]).reshape(DATASET_SIZE, 1)\n",
    "pca_components = projections[:, 0].reshape(DATASET_SIZE, 1)\n",
    "\n",
    "# Si può, in alternativa, ricalcolare la PCA con k=1, nel seguente modo:\n",
    "# principal_axes, eigenvalues = principal_component_analysis_svd(centered_dataset, k=1)\n",
    "# pca_components = pca_projections(dataset, principal_axes)\n",
    "\n",
    "print(\"\\nProiezioni nel nuovo sottospazio vettoriale:\\n{0}\".format(pca_components))"
   ]
  },
  {
   "cell_type": "markdown",
   "metadata": {},
   "source": [
    "### Metodo 2: esecuzione della PCA mediante Scikit-learn\n",
    "\n",
    "Si effettua, di seguito, l'esecuzione della PCA mediante Scikit-learn. Si eseguono tutte le operazioni sul dataset centrato, per coerenza con il precedente metodo, anche se Scikit-learn centra automaticamente i dati rispetto alla loro media prima di effettuare la PCA."
   ]
  },
  {
   "cell_type": "code",
   "execution_count": 1,
   "metadata": {
    "collapsed": false
   },
   "outputs": [
    {
     "ename": "NameError",
     "evalue": "name 'centered_dataset' is not defined",
     "output_type": "error",
     "traceback": [
      "\u001b[1;31m---------------------------------------------------------------------------\u001b[0m",
      "\u001b[1;31mNameError\u001b[0m                                 Traceback (most recent call last)",
      "\u001b[1;32m<ipython-input-1-9ab433cd5b64>\u001b[0m in \u001b[0;36m<module>\u001b[1;34m()\u001b[0m\n\u001b[0;32m      2\u001b[0m \u001b[1;33m\u001b[0m\u001b[0m\n\u001b[0;32m      3\u001b[0m \u001b[0mpca\u001b[0m \u001b[1;33m=\u001b[0m \u001b[0mPCA\u001b[0m\u001b[1;33m(\u001b[0m\u001b[1;33m)\u001b[0m\u001b[1;33m\u001b[0m\u001b[0m\n\u001b[1;32m----> 4\u001b[1;33m \u001b[0mpca\u001b[0m\u001b[1;33m.\u001b[0m\u001b[0mfit\u001b[0m\u001b[1;33m(\u001b[0m\u001b[0mcentered_dataset\u001b[0m\u001b[1;33m)\u001b[0m\u001b[1;33m\u001b[0m\u001b[0m\n\u001b[0m\u001b[0;32m      5\u001b[0m \u001b[1;33m\u001b[0m\u001b[0m\n\u001b[0;32m      6\u001b[0m \u001b[0mprint\u001b[0m\u001b[1;33m(\u001b[0m\u001b[1;34m\"Matrice degli assi principali:\\n{0}\"\u001b[0m\u001b[1;33m.\u001b[0m\u001b[0mformat\u001b[0m\u001b[1;33m(\u001b[0m\u001b[0mpca\u001b[0m\u001b[1;33m.\u001b[0m\u001b[0mcomponents_\u001b[0m\u001b[1;33m.\u001b[0m\u001b[0mT\u001b[0m\u001b[1;33m)\u001b[0m\u001b[1;33m)\u001b[0m\u001b[1;33m\u001b[0m\u001b[0m\n",
      "\u001b[1;31mNameError\u001b[0m: name 'centered_dataset' is not defined"
     ]
    }
   ],
   "source": [
    "from sklearn.decomposition import PCA\n",
    "\n",
    "pca = PCA()\n",
    "pca.fit(centered_dataset)\n",
    "\n",
    "print(\"Matrice degli assi principali:\\n{0}\".format(pca.components_.T))\n",
    "print(\"\\nPercentuale di varianza cumulativa conservata dalle componenti:\\n{0}\"\n",
    "      .format(np.cumsum(pca.explained_variance_ratio_)))"
   ]
  },
  {
   "cell_type": "markdown",
   "metadata": {},
   "source": [
    "La classe PCA di Scikit-learn non restituisce lo spettro della matrice di covarianza del dataset specificato.\n",
    "Calcoliamo, pertanto, gli autovalori di tale matrice partendo dalle percentuali di varianza già valutate. Tali autovalori saranno già ordinati in modo decrescente perché i valori di partenza lo erano."
   ]
  },
  {
   "cell_type": "code",
   "execution_count": 16,
   "metadata": {
    "collapsed": false
   },
   "outputs": [
    {
     "name": "stdout",
     "output_type": "stream",
     "text": [
      "Autovalori della matrice di covarianza:\n",
      "[ 1.97111988  0.03141499]\n"
     ]
    }
   ],
   "source": [
    "sk_eigenvalues = pca.explained_variance_ratio_ * np.trace(np.cov(centered_dataset.T))\n",
    "print(\"Autovalori della matrice di covarianza:\\n{0}\".format(sk_eigenvalues))"
   ]
  },
  {
   "cell_type": "markdown",
   "metadata": {},
   "source": [
    "Si mostra, di seguito, uno screeplot degli autovalori determinati dalla PCA. Ciò è fatto richiamando l'apposita funzione definita precedentemente."
   ]
  },
  {
   "cell_type": "code",
   "execution_count": 17,
   "metadata": {
    "collapsed": false
   },
   "outputs": [
    {
     "data": {
      "image/png": "[encoded data removed]",
      "text/plain": [
       "<matplotlib.figure.Figure at 0x7fd2af4e3910>"
      ]
     },
     "metadata": {},
     "output_type": "display_data"
    }
   ],
   "source": [
    "draw_screeplot(sk_eigenvalues)"
   ]
  },
  {
   "cell_type": "markdown",
   "metadata": {},
   "source": [
    "La prima componente conserva quasi tutta l'informazione, pertanto applichiamo la PCA con k=1."
   ]
  },
  {
   "cell_type": "code",
   "execution_count": 18,
   "metadata": {
    "collapsed": false
   },
   "outputs": [
    {
     "name": "stdout",
     "output_type": "stream",
     "text": [
      "Proiezioni:\n",
      "[[-0.09623088]\n",
      " [ 1.65791759]\n",
      " [-0.49357593]\n",
      " [-0.94081657]\n",
      " [ 3.51623171]\n",
      " [-2.06011313]\n",
      " [ 2.43794292]\n",
      " [ 0.19712904]\n",
      " [-0.71472746]\n",
      " [-0.13311599]\n",
      " ..., \n",
      " [ 1.19475469]\n",
      " [-0.93386328]\n",
      " [-0.84235631]\n",
      " [ 0.94761126]\n",
      " [ 0.1869546 ]\n",
      " [-0.90256814]\n",
      " [-0.94090271]\n",
      " [-0.387451  ]\n",
      " [-0.08188043]\n",
      " [-0.9320618 ]]\n"
     ]
    }
   ],
   "source": [
    "pca = PCA(n_components=1)\n",
    "sk_projections = pca.fit_transform(centered_dataset)\n",
    "print(\"Proiezioni:\\n{0}\".format(sk_projections))"
   ]
  },
  {
   "cell_type": "code",
   "execution_count": null,
   "metadata": {
    "collapsed": true
   },
   "outputs": [],
   "source": []
  }
 ],
 "metadata": {
  "kernelspec": {
   "display_name": "Python 3",
   "language": "python",
   "name": "python3"
  },
  "language_info": {
   "codemirror_mode": {
    "name": "ipython",
    "version": 3
   },
   "file_extension": ".py",
   "mimetype": "text/x-python",
   "name": "python",
   "nbconvert_exporter": "python",
   "pygments_lexer": "ipython3",
   "version": "3.4.3"
  }
 },
 "nbformat": 4,
 "nbformat_minor": 0
}
