{
 "cells": [
  {
   "cell_type": "markdown",
   "metadata": {},
   "source": [
    "# Analisi delle componenti principali sul dataset \"Wine Red Quality\"\n",
    "\n",
    "## Caricamento del dataset"
   ]
  },
  {
   "cell_type": "code",
   "execution_count": 1,
   "metadata": {
    "collapsed": false
   },
   "outputs": [
    {
     "data": {
      "text/html": [
       "<div style=\"max-height:1000px;max-width:1500px;overflow:auto;\">\n",
       "<table border=\"1\" class=\"dataframe\">\n",
       "  <thead>\n",
       "    <tr style=\"text-align: right;\">\n",
       "      <th></th>\n",
       "      <th>fixed acidity</th>\n",
       "      <th>volatile acidity</th>\n",
       "      <th>citric acid</th>\n",
       "      <th>residual sugar</th>\n",
       "      <th>chlorides</th>\n",
       "      <th>free sulfur dioxide</th>\n",
       "      <th>total sulfur dioxide</th>\n",
       "      <th>density</th>\n",
       "      <th>pH</th>\n",
       "      <th>sulphates</th>\n",
       "      <th>alcohol</th>\n",
       "      <th>quality</th>\n",
       "    </tr>\n",
       "  </thead>\n",
       "  <tbody>\n",
       "    <tr>\n",
       "      <th>0   </th>\n",
       "      <td>  7.4</td>\n",
       "      <td> 0.700</td>\n",
       "      <td> 0.00</td>\n",
       "      <td> 1.9</td>\n",
       "      <td> 0.076</td>\n",
       "      <td> 11</td>\n",
       "      <td> 34</td>\n",
       "      <td> 0.99780</td>\n",
       "      <td> 3.51</td>\n",
       "      <td> 0.56</td>\n",
       "      <td>  9.4</td>\n",
       "      <td> 5</td>\n",
       "    </tr>\n",
       "    <tr>\n",
       "      <th>1   </th>\n",
       "      <td>  7.8</td>\n",
       "      <td> 0.880</td>\n",
       "      <td> 0.00</td>\n",
       "      <td> 2.6</td>\n",
       "      <td> 0.098</td>\n",
       "      <td> 25</td>\n",
       "      <td> 67</td>\n",
       "      <td> 0.99680</td>\n",
       "      <td> 3.20</td>\n",
       "      <td> 0.68</td>\n",
       "      <td>  9.8</td>\n",
       "      <td> 5</td>\n",
       "    </tr>\n",
       "    <tr>\n",
       "      <th>2   </th>\n",
       "      <td>  7.8</td>\n",
       "      <td> 0.760</td>\n",
       "      <td> 0.04</td>\n",
       "      <td> 2.3</td>\n",
       "      <td> 0.092</td>\n",
       "      <td> 15</td>\n",
       "      <td> 54</td>\n",
       "      <td> 0.99700</td>\n",
       "      <td> 3.26</td>\n",
       "      <td> 0.65</td>\n",
       "      <td>  9.8</td>\n",
       "      <td> 5</td>\n",
       "    </tr>\n",
       "    <tr>\n",
       "      <th>3   </th>\n",
       "      <td> 11.2</td>\n",
       "      <td> 0.280</td>\n",
       "      <td> 0.56</td>\n",
       "      <td> 1.9</td>\n",
       "      <td> 0.075</td>\n",
       "      <td> 17</td>\n",
       "      <td> 60</td>\n",
       "      <td> 0.99800</td>\n",
       "      <td> 3.16</td>\n",
       "      <td> 0.58</td>\n",
       "      <td>  9.8</td>\n",
       "      <td> 6</td>\n",
       "    </tr>\n",
       "    <tr>\n",
       "      <th>4   </th>\n",
       "      <td>  7.4</td>\n",
       "      <td> 0.700</td>\n",
       "      <td> 0.00</td>\n",
       "      <td> 1.9</td>\n",
       "      <td> 0.076</td>\n",
       "      <td> 11</td>\n",
       "      <td> 34</td>\n",
       "      <td> 0.99780</td>\n",
       "      <td> 3.51</td>\n",
       "      <td> 0.56</td>\n",
       "      <td>  9.4</td>\n",
       "      <td> 5</td>\n",
       "    </tr>\n",
       "    <tr>\n",
       "      <th>...</th>\n",
       "      <td>...</td>\n",
       "      <td>...</td>\n",
       "      <td>...</td>\n",
       "      <td>...</td>\n",
       "      <td>...</td>\n",
       "      <td>...</td>\n",
       "      <td>...</td>\n",
       "      <td>...</td>\n",
       "      <td>...</td>\n",
       "      <td>...</td>\n",
       "      <td>...</td>\n",
       "      <td>...</td>\n",
       "    </tr>\n",
       "    <tr>\n",
       "      <th>1594</th>\n",
       "      <td>  6.2</td>\n",
       "      <td> 0.600</td>\n",
       "      <td> 0.08</td>\n",
       "      <td> 2.0</td>\n",
       "      <td> 0.090</td>\n",
       "      <td> 32</td>\n",
       "      <td> 44</td>\n",
       "      <td> 0.99490</td>\n",
       "      <td> 3.45</td>\n",
       "      <td> 0.58</td>\n",
       "      <td> 10.5</td>\n",
       "      <td> 5</td>\n",
       "    </tr>\n",
       "    <tr>\n",
       "      <th>1595</th>\n",
       "      <td>  5.9</td>\n",
       "      <td> 0.550</td>\n",
       "      <td> 0.10</td>\n",
       "      <td> 2.2</td>\n",
       "      <td> 0.062</td>\n",
       "      <td> 39</td>\n",
       "      <td> 51</td>\n",
       "      <td> 0.99512</td>\n",
       "      <td> 3.52</td>\n",
       "      <td> 0.76</td>\n",
       "      <td> 11.2</td>\n",
       "      <td> 6</td>\n",
       "    </tr>\n",
       "    <tr>\n",
       "      <th>1596</th>\n",
       "      <td>  6.3</td>\n",
       "      <td> 0.510</td>\n",
       "      <td> 0.13</td>\n",
       "      <td> 2.3</td>\n",
       "      <td> 0.076</td>\n",
       "      <td> 29</td>\n",
       "      <td> 40</td>\n",
       "      <td> 0.99574</td>\n",
       "      <td> 3.42</td>\n",
       "      <td> 0.75</td>\n",
       "      <td> 11.0</td>\n",
       "      <td> 6</td>\n",
       "    </tr>\n",
       "    <tr>\n",
       "      <th>1597</th>\n",
       "      <td>  5.9</td>\n",
       "      <td> 0.645</td>\n",
       "      <td> 0.12</td>\n",
       "      <td> 2.0</td>\n",
       "      <td> 0.075</td>\n",
       "      <td> 32</td>\n",
       "      <td> 44</td>\n",
       "      <td> 0.99547</td>\n",
       "      <td> 3.57</td>\n",
       "      <td> 0.71</td>\n",
       "      <td> 10.2</td>\n",
       "      <td> 5</td>\n",
       "    </tr>\n",
       "    <tr>\n",
       "      <th>1598</th>\n",
       "      <td>  6.0</td>\n",
       "      <td> 0.310</td>\n",
       "      <td> 0.47</td>\n",
       "      <td> 3.6</td>\n",
       "      <td> 0.067</td>\n",
       "      <td> 18</td>\n",
       "      <td> 42</td>\n",
       "      <td> 0.99549</td>\n",
       "      <td> 3.39</td>\n",
       "      <td> 0.66</td>\n",
       "      <td> 11.0</td>\n",
       "      <td> 6</td>\n",
       "    </tr>\n",
       "  </tbody>\n",
       "</table>\n",
       "<p>1599 rows × 12 columns</p>\n",
       "</div>"
      ],
      "text/plain": [
       "      fixed acidity  volatile acidity  citric acid  residual sugar  chlorides  \\\n",
       "0               7.4             0.700         0.00             1.9      0.076   \n",
       "1               7.8             0.880         0.00             2.6      0.098   \n",
       "2               7.8             0.760         0.04             2.3      0.092   \n",
       "3              11.2             0.280         0.56             1.9      0.075   \n",
       "4               7.4             0.700         0.00             1.9      0.076   \n",
       "...             ...               ...          ...             ...        ...   \n",
       "1594            6.2             0.600         0.08             2.0      0.090   \n",
       "1595            5.9             0.550         0.10             2.2      0.062   \n",
       "1596            6.3             0.510         0.13             2.3      0.076   \n",
       "1597            5.9             0.645         0.12             2.0      0.075   \n",
       "1598            6.0             0.310         0.47             3.6      0.067   \n",
       "\n",
       "      free sulfur dioxide  total sulfur dioxide  density    pH  sulphates  \\\n",
       "0                      11                    34  0.99780  3.51       0.56   \n",
       "1                      25                    67  0.99680  3.20       0.68   \n",
       "2                      15                    54  0.99700  3.26       0.65   \n",
       "3                      17                    60  0.99800  3.16       0.58   \n",
       "4                      11                    34  0.99780  3.51       0.56   \n",
       "...                   ...                   ...      ...   ...        ...   \n",
       "1594                   32                    44  0.99490  3.45       0.58   \n",
       "1595                   39                    51  0.99512  3.52       0.76   \n",
       "1596                   29                    40  0.99574  3.42       0.75   \n",
       "1597                   32                    44  0.99547  3.57       0.71   \n",
       "1598                   18                    42  0.99549  3.39       0.66   \n",
       "\n",
       "      alcohol  quality  \n",
       "0         9.4        5  \n",
       "1         9.8        5  \n",
       "2         9.8        5  \n",
       "3         9.8        6  \n",
       "4         9.4        5  \n",
       "...       ...      ...  \n",
       "1594     10.5        5  \n",
       "1595     11.2        6  \n",
       "1596     11.0        6  \n",
       "1597     10.2        5  \n",
       "1598     11.0        6  \n",
       "\n",
       "[1599 rows x 12 columns]"
      ]
     },
     "execution_count": 1,
     "metadata": {},
     "output_type": "execute_result"
    }
   ],
   "source": [
    "import numpy as np\n",
    "import pandas as pd\n",
    "from matplotlib import pyplot as plt\n",
    "from mpl_toolkits.mplot3d import Axes3D\n",
    "\n",
    "# Abilita la visualizzazione dei grafici all'interno del notebook.\n",
    "%matplotlib inline\n",
    "\n",
    "# Imposta alcuni parametri per la visualizzazione degli array.\n",
    "np.set_printoptions(threshold=55, edgeitems=10, suppress=True)\n",
    "pd.set_option('display.max_rows', 10)\n",
    "\n",
    "# Carica il dataset a partire da un file CSV.\n",
    "dataframe = pd.read_csv('datasets/wine_quality_red.csv', encoding='utf-8-sig', sep=';')\n",
    "\n",
    "dataframe"
   ]
  },
  {
   "cell_type": "markdown",
   "metadata": {},
   "source": [
    "## Raccolta di informazioni sul dataset generato"
   ]
  },
  {
   "cell_type": "code",
   "execution_count": 2,
   "metadata": {
    "collapsed": false
   },
   "outputs": [
    {
     "data": {
      "text/plain": [
       "fixed acidity       8.319637\n",
       "volatile acidity    0.527821\n",
       "citric acid         0.270976\n",
       "...\n",
       "sulphates     0.658149\n",
       "alcohol      10.422983\n",
       "quality       5.636023\n",
       "Length: 12, dtype: float64"
      ]
     },
     "execution_count": 2,
     "metadata": {},
     "output_type": "execute_result"
    }
   ],
   "source": [
    "# Calcola la media delle variabili del dataset.\n",
    "dataframe.mean()"
   ]
  },
  {
   "cell_type": "code",
   "execution_count": 3,
   "metadata": {
    "collapsed": false
   },
   "outputs": [
    {
     "data": {
      "text/plain": [
       "fixed acidity       3.031416\n",
       "volatile acidity    0.032062\n",
       "citric acid         0.037947\n",
       "...\n",
       "sulphates    0.028733\n",
       "alcohol      1.135647\n",
       "quality      0.652168\n",
       "Length: 12, dtype: float64"
      ]
     },
     "execution_count": 3,
     "metadata": {},
     "output_type": "execute_result"
    }
   ],
   "source": [
    "# Calcola la varianza delle variabili del dataset.\n",
    "dataframe.var()"
   ]
  },
  {
   "cell_type": "code",
   "execution_count": 4,
   "metadata": {
    "collapsed": false
   },
   "outputs": [
    {
     "data": {
      "text/plain": [
       "fixed acidity       1.741096\n",
       "volatile acidity    0.179060\n",
       "citric acid         0.194801\n",
       "...\n",
       "sulphates    0.169507\n",
       "alcohol      1.065668\n",
       "quality      0.807569\n",
       "Length: 12, dtype: float64"
      ]
     },
     "execution_count": 4,
     "metadata": {},
     "output_type": "execute_result"
    }
   ],
   "source": [
    "# Calcola la deviazione standard delle variabili del dataset.\n",
    "dataframe.std()"
   ]
  },
  {
   "cell_type": "code",
   "execution_count": 5,
   "metadata": {
    "collapsed": false
   },
   "outputs": [
    {
     "data": {
      "text/html": [
       "<div style=\"max-height:1000px;max-width:1500px;overflow:auto;\">\n",
       "<table border=\"1\" class=\"dataframe\">\n",
       "  <thead>\n",
       "    <tr style=\"text-align: right;\">\n",
       "      <th></th>\n",
       "      <th>fixed acidity</th>\n",
       "      <th>volatile acidity</th>\n",
       "      <th>citric acid</th>\n",
       "      <th>residual sugar</th>\n",
       "      <th>chlorides</th>\n",
       "      <th>free sulfur dioxide</th>\n",
       "      <th>total sulfur dioxide</th>\n",
       "      <th>density</th>\n",
       "      <th>pH</th>\n",
       "      <th>sulphates</th>\n",
       "      <th>alcohol</th>\n",
       "      <th>quality</th>\n",
       "    </tr>\n",
       "  </thead>\n",
       "  <tbody>\n",
       "    <tr>\n",
       "      <th>fixed acidity</th>\n",
       "      <td> 3.031416</td>\n",
       "      <td>-0.079851</td>\n",
       "      <td> 0.227820</td>\n",
       "      <td> 0.281756</td>\n",
       "      <td> 0.007679</td>\n",
       "      <td>-2.800921</td>\n",
       "      <td>-6.482346</td>\n",
       "      <td> 0.002195</td>\n",
       "      <td>-0.183586</td>\n",
       "      <td> 0.054010</td>\n",
       "      <td>-0.114421</td>\n",
       "      <td> 0.174424</td>\n",
       "    </tr>\n",
       "    <tr>\n",
       "      <th>volatile acidity</th>\n",
       "      <td>-0.079851</td>\n",
       "      <td> 0.032062</td>\n",
       "      <td>-0.019272</td>\n",
       "      <td> 0.000484</td>\n",
       "      <td> 0.000517</td>\n",
       "      <td>-0.019674</td>\n",
       "      <td> 0.450426</td>\n",
       "      <td> 0.000007</td>\n",
       "      <td> 0.006495</td>\n",
       "      <td>-0.007921</td>\n",
       "      <td>-0.038600</td>\n",
       "      <td>-0.056476</td>\n",
       "    </tr>\n",
       "    <tr>\n",
       "      <th>citric acid</th>\n",
       "      <td> 0.227820</td>\n",
       "      <td>-0.019272</td>\n",
       "      <td> 0.037947</td>\n",
       "      <td> 0.039434</td>\n",
       "      <td> 0.001869</td>\n",
       "      <td>-0.124252</td>\n",
       "      <td> 0.227697</td>\n",
       "      <td> 0.000134</td>\n",
       "      <td>-0.016298</td>\n",
       "      <td> 0.010328</td>\n",
       "      <td> 0.022815</td>\n",
       "      <td> 0.035612</td>\n",
       "    </tr>\n",
       "    <tr>\n",
       "      <th>residual sugar</th>\n",
       "      <td> 0.281756</td>\n",
       "      <td> 0.000484</td>\n",
       "      <td> 0.039434</td>\n",
       "      <td> 1.987897</td>\n",
       "      <td> 0.003690</td>\n",
       "      <td> 2.758611</td>\n",
       "      <td> 9.416441</td>\n",
       "      <td> 0.000945</td>\n",
       "      <td>-0.018644</td>\n",
       "      <td> 0.001321</td>\n",
       "      <td> 0.063219</td>\n",
       "      <td> 0.015635</td>\n",
       "    </tr>\n",
       "    <tr>\n",
       "      <th>chlorides</th>\n",
       "      <td> 0.007679</td>\n",
       "      <td> 0.000517</td>\n",
       "      <td> 0.001869</td>\n",
       "      <td> 0.003690</td>\n",
       "      <td> 0.002215</td>\n",
       "      <td> 0.002738</td>\n",
       "      <td> 0.073387</td>\n",
       "      <td> 0.000018</td>\n",
       "      <td>-0.001926</td>\n",
       "      <td> 0.002962</td>\n",
       "      <td>-0.011092</td>\n",
       "      <td>-0.004900</td>\n",
       "    </tr>\n",
       "    <tr>\n",
       "      <th>...</th>\n",
       "      <td>...</td>\n",
       "      <td>...</td>\n",
       "      <td>...</td>\n",
       "      <td>...</td>\n",
       "      <td>...</td>\n",
       "      <td>...</td>\n",
       "      <td>...</td>\n",
       "      <td>...</td>\n",
       "      <td>...</td>\n",
       "      <td>...</td>\n",
       "      <td>...</td>\n",
       "      <td>...</td>\n",
       "    </tr>\n",
       "    <tr>\n",
       "      <th>density</th>\n",
       "      <td> 0.002195</td>\n",
       "      <td> 0.000007</td>\n",
       "      <td> 0.000134</td>\n",
       "      <td> 0.000945</td>\n",
       "      <td> 0.000018</td>\n",
       "      <td>-0.000433</td>\n",
       "      <td> 0.004425</td>\n",
       "      <td> 0.000004</td>\n",
       "      <td>-0.000100</td>\n",
       "      <td> 0.000048</td>\n",
       "      <td>-0.000998</td>\n",
       "      <td>-0.000267</td>\n",
       "    </tr>\n",
       "    <tr>\n",
       "      <th>pH</th>\n",
       "      <td>-0.183586</td>\n",
       "      <td> 0.006495</td>\n",
       "      <td>-0.016298</td>\n",
       "      <td>-0.018644</td>\n",
       "      <td>-0.001926</td>\n",
       "      <td> 0.113653</td>\n",
       "      <td>-0.337699</td>\n",
       "      <td>-0.000100</td>\n",
       "      <td> 0.023835</td>\n",
       "      <td>-0.005146</td>\n",
       "      <td> 0.033832</td>\n",
       "      <td>-0.007198</td>\n",
       "    </tr>\n",
       "    <tr>\n",
       "      <th>sulphates</th>\n",
       "      <td> 0.054010</td>\n",
       "      <td>-0.007921</td>\n",
       "      <td> 0.010328</td>\n",
       "      <td> 0.001321</td>\n",
       "      <td> 0.002962</td>\n",
       "      <td> 0.091592</td>\n",
       "      <td> 0.239471</td>\n",
       "      <td> 0.000048</td>\n",
       "      <td>-0.005146</td>\n",
       "      <td> 0.028733</td>\n",
       "      <td> 0.016907</td>\n",
       "      <td> 0.034413</td>\n",
       "    </tr>\n",
       "    <tr>\n",
       "      <th>alcohol</th>\n",
       "      <td>-0.114421</td>\n",
       "      <td>-0.038600</td>\n",
       "      <td> 0.022815</td>\n",
       "      <td> 0.063219</td>\n",
       "      <td>-0.011092</td>\n",
       "      <td>-0.773698</td>\n",
       "      <td>-7.209298</td>\n",
       "      <td>-0.000998</td>\n",
       "      <td> 0.033832</td>\n",
       "      <td> 0.016907</td>\n",
       "      <td> 1.135647</td>\n",
       "      <td> 0.409789</td>\n",
       "    </tr>\n",
       "    <tr>\n",
       "      <th>quality</th>\n",
       "      <td> 0.174424</td>\n",
       "      <td>-0.056476</td>\n",
       "      <td> 0.035612</td>\n",
       "      <td> 0.015635</td>\n",
       "      <td>-0.004900</td>\n",
       "      <td>-0.427907</td>\n",
       "      <td>-4.917237</td>\n",
       "      <td>-0.000267</td>\n",
       "      <td>-0.007198</td>\n",
       "      <td> 0.034413</td>\n",
       "      <td> 0.409789</td>\n",
       "      <td> 0.652168</td>\n",
       "    </tr>\n",
       "  </tbody>\n",
       "</table>\n",
       "<p>12 rows × 12 columns</p>\n",
       "</div>"
      ],
      "text/plain": [
       "                  fixed acidity  volatile acidity  citric acid  \\\n",
       "fixed acidity          3.031416         -0.079851     0.227820   \n",
       "volatile acidity      -0.079851          0.032062    -0.019272   \n",
       "citric acid            0.227820         -0.019272     0.037947   \n",
       "residual sugar         0.281756          0.000484     0.039434   \n",
       "chlorides              0.007679          0.000517     0.001869   \n",
       "...                         ...               ...          ...   \n",
       "density                0.002195          0.000007     0.000134   \n",
       "pH                    -0.183586          0.006495    -0.016298   \n",
       "sulphates              0.054010         -0.007921     0.010328   \n",
       "alcohol               -0.114421         -0.038600     0.022815   \n",
       "quality                0.174424         -0.056476     0.035612   \n",
       "\n",
       "                  residual sugar  chlorides  free sulfur dioxide  \\\n",
       "fixed acidity           0.281756   0.007679            -2.800921   \n",
       "volatile acidity        0.000484   0.000517            -0.019674   \n",
       "citric acid             0.039434   0.001869            -0.124252   \n",
       "residual sugar          1.987897   0.003690             2.758611   \n",
       "chlorides               0.003690   0.002215             0.002738   \n",
       "...                          ...        ...                  ...   \n",
       "density                 0.000945   0.000018            -0.000433   \n",
       "pH                     -0.018644  -0.001926             0.113653   \n",
       "sulphates               0.001321   0.002962             0.091592   \n",
       "alcohol                 0.063219  -0.011092            -0.773698   \n",
       "quality                 0.015635  -0.004900            -0.427907   \n",
       "\n",
       "                  total sulfur dioxide   density        pH  sulphates  \\\n",
       "fixed acidity                -6.482346  0.002195 -0.183586   0.054010   \n",
       "volatile acidity              0.450426  0.000007  0.006495  -0.007921   \n",
       "citric acid                   0.227697  0.000134 -0.016298   0.010328   \n",
       "residual sugar                9.416441  0.000945 -0.018644   0.001321   \n",
       "chlorides                     0.073387  0.000018 -0.001926   0.002962   \n",
       "...                                ...       ...       ...        ...   \n",
       "density                       0.004425  0.000004 -0.000100   0.000048   \n",
       "pH                           -0.337699 -0.000100  0.023835  -0.005146   \n",
       "sulphates                     0.239471  0.000048 -0.005146   0.028733   \n",
       "alcohol                      -7.209298 -0.000998  0.033832   0.016907   \n",
       "quality                      -4.917237 -0.000267 -0.007198   0.034413   \n",
       "\n",
       "                   alcohol   quality  \n",
       "fixed acidity    -0.114421  0.174424  \n",
       "volatile acidity -0.038600 -0.056476  \n",
       "citric acid       0.022815  0.035612  \n",
       "residual sugar    0.063219  0.015635  \n",
       "chlorides        -0.011092 -0.004900  \n",
       "...                    ...       ...  \n",
       "density          -0.000998 -0.000267  \n",
       "pH                0.033832 -0.007198  \n",
       "sulphates         0.016907  0.034413  \n",
       "alcohol           1.135647  0.409789  \n",
       "quality           0.409789  0.652168  \n",
       "\n",
       "[12 rows x 12 columns]"
      ]
     },
     "execution_count": 5,
     "metadata": {},
     "output_type": "execute_result"
    }
   ],
   "source": [
    "# Calcola la matrice di covarianza del dataset.\n",
    "dataframe.cov()"
   ]
  },
  {
   "cell_type": "code",
   "execution_count": 6,
   "metadata": {
    "collapsed": false
   },
   "outputs": [
    {
     "data": {
      "text/html": [
       "<div style=\"max-height:1000px;max-width:1500px;overflow:auto;\">\n",
       "<table border=\"1\" class=\"dataframe\">\n",
       "  <thead>\n",
       "    <tr style=\"text-align: right;\">\n",
       "      <th></th>\n",
       "      <th>fixed acidity</th>\n",
       "      <th>volatile acidity</th>\n",
       "      <th>citric acid</th>\n",
       "      <th>residual sugar</th>\n",
       "      <th>chlorides</th>\n",
       "      <th>free sulfur dioxide</th>\n",
       "      <th>total sulfur dioxide</th>\n",
       "      <th>density</th>\n",
       "      <th>pH</th>\n",
       "      <th>sulphates</th>\n",
       "      <th>alcohol</th>\n",
       "      <th>quality</th>\n",
       "    </tr>\n",
       "  </thead>\n",
       "  <tbody>\n",
       "    <tr>\n",
       "      <th>fixed acidity</th>\n",
       "      <td> 1.000000</td>\n",
       "      <td>-0.256131</td>\n",
       "      <td> 0.671703</td>\n",
       "      <td> 0.114777</td>\n",
       "      <td> 0.093705</td>\n",
       "      <td>-0.153794</td>\n",
       "      <td>-0.113181</td>\n",
       "      <td> 0.668047</td>\n",
       "      <td>-0.682978</td>\n",
       "      <td> 0.183006</td>\n",
       "      <td>-0.061668</td>\n",
       "      <td> 0.124052</td>\n",
       "    </tr>\n",
       "    <tr>\n",
       "      <th>volatile acidity</th>\n",
       "      <td>-0.256131</td>\n",
       "      <td> 1.000000</td>\n",
       "      <td>-0.552496</td>\n",
       "      <td> 0.001918</td>\n",
       "      <td> 0.061298</td>\n",
       "      <td>-0.010504</td>\n",
       "      <td> 0.076470</td>\n",
       "      <td> 0.022026</td>\n",
       "      <td> 0.234937</td>\n",
       "      <td>-0.260987</td>\n",
       "      <td>-0.202288</td>\n",
       "      <td>-0.390558</td>\n",
       "    </tr>\n",
       "    <tr>\n",
       "      <th>citric acid</th>\n",
       "      <td> 0.671703</td>\n",
       "      <td>-0.552496</td>\n",
       "      <td> 1.000000</td>\n",
       "      <td> 0.143577</td>\n",
       "      <td> 0.203823</td>\n",
       "      <td>-0.060978</td>\n",
       "      <td> 0.035533</td>\n",
       "      <td> 0.364947</td>\n",
       "      <td>-0.541904</td>\n",
       "      <td> 0.312770</td>\n",
       "      <td> 0.109903</td>\n",
       "      <td> 0.226373</td>\n",
       "    </tr>\n",
       "    <tr>\n",
       "      <th>residual sugar</th>\n",
       "      <td> 0.114777</td>\n",
       "      <td> 0.001918</td>\n",
       "      <td> 0.143577</td>\n",
       "      <td> 1.000000</td>\n",
       "      <td> 0.055610</td>\n",
       "      <td> 0.187049</td>\n",
       "      <td> 0.203028</td>\n",
       "      <td> 0.355283</td>\n",
       "      <td>-0.085652</td>\n",
       "      <td> 0.005527</td>\n",
       "      <td> 0.042075</td>\n",
       "      <td> 0.013732</td>\n",
       "    </tr>\n",
       "    <tr>\n",
       "      <th>chlorides</th>\n",
       "      <td> 0.093705</td>\n",
       "      <td> 0.061298</td>\n",
       "      <td> 0.203823</td>\n",
       "      <td> 0.055610</td>\n",
       "      <td> 1.000000</td>\n",
       "      <td> 0.005562</td>\n",
       "      <td> 0.047400</td>\n",
       "      <td> 0.200632</td>\n",
       "      <td>-0.265026</td>\n",
       "      <td> 0.371260</td>\n",
       "      <td>-0.221141</td>\n",
       "      <td>-0.128907</td>\n",
       "    </tr>\n",
       "    <tr>\n",
       "      <th>...</th>\n",
       "      <td>...</td>\n",
       "      <td>...</td>\n",
       "      <td>...</td>\n",
       "      <td>...</td>\n",
       "      <td>...</td>\n",
       "      <td>...</td>\n",
       "      <td>...</td>\n",
       "      <td>...</td>\n",
       "      <td>...</td>\n",
       "      <td>...</td>\n",
       "      <td>...</td>\n",
       "      <td>...</td>\n",
       "    </tr>\n",
       "    <tr>\n",
       "      <th>density</th>\n",
       "      <td> 0.668047</td>\n",
       "      <td> 0.022026</td>\n",
       "      <td> 0.364947</td>\n",
       "      <td> 0.355283</td>\n",
       "      <td> 0.200632</td>\n",
       "      <td>-0.021946</td>\n",
       "      <td> 0.071269</td>\n",
       "      <td> 1.000000</td>\n",
       "      <td>-0.341699</td>\n",
       "      <td> 0.148506</td>\n",
       "      <td>-0.496180</td>\n",
       "      <td>-0.174919</td>\n",
       "    </tr>\n",
       "    <tr>\n",
       "      <th>pH</th>\n",
       "      <td>-0.682978</td>\n",
       "      <td> 0.234937</td>\n",
       "      <td>-0.541904</td>\n",
       "      <td>-0.085652</td>\n",
       "      <td>-0.265026</td>\n",
       "      <td> 0.070377</td>\n",
       "      <td>-0.066495</td>\n",
       "      <td>-0.341699</td>\n",
       "      <td> 1.000000</td>\n",
       "      <td>-0.196648</td>\n",
       "      <td> 0.205633</td>\n",
       "      <td>-0.057731</td>\n",
       "    </tr>\n",
       "    <tr>\n",
       "      <th>sulphates</th>\n",
       "      <td> 0.183006</td>\n",
       "      <td>-0.260987</td>\n",
       "      <td> 0.312770</td>\n",
       "      <td> 0.005527</td>\n",
       "      <td> 0.371260</td>\n",
       "      <td> 0.051658</td>\n",
       "      <td> 0.042947</td>\n",
       "      <td> 0.148506</td>\n",
       "      <td>-0.196648</td>\n",
       "      <td> 1.000000</td>\n",
       "      <td> 0.093595</td>\n",
       "      <td> 0.251397</td>\n",
       "    </tr>\n",
       "    <tr>\n",
       "      <th>alcohol</th>\n",
       "      <td>-0.061668</td>\n",
       "      <td>-0.202288</td>\n",
       "      <td> 0.109903</td>\n",
       "      <td> 0.042075</td>\n",
       "      <td>-0.221141</td>\n",
       "      <td>-0.069408</td>\n",
       "      <td>-0.205654</td>\n",
       "      <td>-0.496180</td>\n",
       "      <td> 0.205633</td>\n",
       "      <td> 0.093595</td>\n",
       "      <td> 1.000000</td>\n",
       "      <td> 0.476166</td>\n",
       "    </tr>\n",
       "    <tr>\n",
       "      <th>quality</th>\n",
       "      <td> 0.124052</td>\n",
       "      <td>-0.390558</td>\n",
       "      <td> 0.226373</td>\n",
       "      <td> 0.013732</td>\n",
       "      <td>-0.128907</td>\n",
       "      <td>-0.050656</td>\n",
       "      <td>-0.185100</td>\n",
       "      <td>-0.174919</td>\n",
       "      <td>-0.057731</td>\n",
       "      <td> 0.251397</td>\n",
       "      <td> 0.476166</td>\n",
       "      <td> 1.000000</td>\n",
       "    </tr>\n",
       "  </tbody>\n",
       "</table>\n",
       "<p>12 rows × 12 columns</p>\n",
       "</div>"
      ],
      "text/plain": [
       "                  fixed acidity  volatile acidity  citric acid  \\\n",
       "fixed acidity          1.000000         -0.256131     0.671703   \n",
       "volatile acidity      -0.256131          1.000000    -0.552496   \n",
       "citric acid            0.671703         -0.552496     1.000000   \n",
       "residual sugar         0.114777          0.001918     0.143577   \n",
       "chlorides              0.093705          0.061298     0.203823   \n",
       "...                         ...               ...          ...   \n",
       "density                0.668047          0.022026     0.364947   \n",
       "pH                    -0.682978          0.234937    -0.541904   \n",
       "sulphates              0.183006         -0.260987     0.312770   \n",
       "alcohol               -0.061668         -0.202288     0.109903   \n",
       "quality                0.124052         -0.390558     0.226373   \n",
       "\n",
       "                  residual sugar  chlorides  free sulfur dioxide  \\\n",
       "fixed acidity           0.114777   0.093705            -0.153794   \n",
       "volatile acidity        0.001918   0.061298            -0.010504   \n",
       "citric acid             0.143577   0.203823            -0.060978   \n",
       "residual sugar          1.000000   0.055610             0.187049   \n",
       "chlorides               0.055610   1.000000             0.005562   \n",
       "...                          ...        ...                  ...   \n",
       "density                 0.355283   0.200632            -0.021946   \n",
       "pH                     -0.085652  -0.265026             0.070377   \n",
       "sulphates               0.005527   0.371260             0.051658   \n",
       "alcohol                 0.042075  -0.221141            -0.069408   \n",
       "quality                 0.013732  -0.128907            -0.050656   \n",
       "\n",
       "                  total sulfur dioxide   density        pH  sulphates  \\\n",
       "fixed acidity                -0.113181  0.668047 -0.682978   0.183006   \n",
       "volatile acidity              0.076470  0.022026  0.234937  -0.260987   \n",
       "citric acid                   0.035533  0.364947 -0.541904   0.312770   \n",
       "residual sugar                0.203028  0.355283 -0.085652   0.005527   \n",
       "chlorides                     0.047400  0.200632 -0.265026   0.371260   \n",
       "...                                ...       ...       ...        ...   \n",
       "density                       0.071269  1.000000 -0.341699   0.148506   \n",
       "pH                           -0.066495 -0.341699  1.000000  -0.196648   \n",
       "sulphates                     0.042947  0.148506 -0.196648   1.000000   \n",
       "alcohol                      -0.205654 -0.496180  0.205633   0.093595   \n",
       "quality                      -0.185100 -0.174919 -0.057731   0.251397   \n",
       "\n",
       "                   alcohol   quality  \n",
       "fixed acidity    -0.061668  0.124052  \n",
       "volatile acidity -0.202288 -0.390558  \n",
       "citric acid       0.109903  0.226373  \n",
       "residual sugar    0.042075  0.013732  \n",
       "chlorides        -0.221141 -0.128907  \n",
       "...                    ...       ...  \n",
       "density          -0.496180 -0.174919  \n",
       "pH                0.205633 -0.057731  \n",
       "sulphates         0.093595  0.251397  \n",
       "alcohol           1.000000  0.476166  \n",
       "quality           0.476166  1.000000  \n",
       "\n",
       "[12 rows x 12 columns]"
      ]
     },
     "execution_count": 6,
     "metadata": {},
     "output_type": "execute_result"
    }
   ],
   "source": [
    "# Calcola la matrice di correlazione del dataset.\n",
    "dataframe.corr()"
   ]
  },
  {
   "cell_type": "code",
   "execution_count": 7,
   "metadata": {
    "collapsed": false
   },
   "outputs": [
    {
     "name": "stdout",
     "output_type": "stream",
     "text": [
      "Frequenza delle classi del dataset:\n",
      "5    681\n",
      "6    638\n",
      "7    199\n",
      "4     53\n",
      "8     18\n",
      "3     10\n",
      "dtype: int64\n"
     ]
    },
    {
     "data": {
      "text/plain": [
       "array([[<matplotlib.axes._subplots.AxesSubplot object at 0x7f848e167860>]], dtype=object)"
      ]
     },
     "execution_count": 7,
     "metadata": {},
     "output_type": "execute_result"
    },
    {
     "data": {
      "image/png": "[encoded data removed]",
      "text/plain": [
       "<matplotlib.figure.Figure at 0x7f848e1a6cc0>"
      ]
     },
     "metadata": {},
     "output_type": "display_data"
    }
   ],
   "source": [
    "# Mostra la frequenza delle classi del dataset.\n",
    "print(\"Frequenza delle classi del dataset:\\n{0}\".format(dataframe[\"quality\"].value_counts()))\n",
    "\n",
    "# Disegna l'istogramma delle classi del dataset.\n",
    "dataframe.hist(column=\"quality\")"
   ]
  },
  {
   "cell_type": "markdown",
   "metadata": {},
   "source": [
    "## Manipolazione del dataset\n",
    "\n",
    "Si individua, di seguito, il sottoinsieme del dataset costituito dalle righe che presentano le due classi più frequenti, ovvero la classe 5 e la classe 6, perché si è interessati a studiare la separabilità lineare del dataset al variare del numero di componenti principali considerate."
   ]
  },
  {
   "cell_type": "code",
   "execution_count": 8,
   "metadata": {
    "collapsed": true
   },
   "outputs": [],
   "source": [
    "# Considera le righe che si riferiscono alla classe 5 o alla classe 6.\n",
    "dataset_subset = dataframe.loc[dataframe[\"quality\"].isin([5, 6])]"
   ]
  },
  {
   "cell_type": "markdown",
   "metadata": {},
   "source": [
    "Si divide, di seguito, il dataset in due nella parte privata dell'attributo di classe e nella parte costituita solo dall'attributo di classe, in modo che si possa applicare l'analisi delle componenti principali solamente sulla prima parte, la quale è la parte realmente informativa ai fini di tale analisi, dato che la seconda parte costituisce un semplice attributo discreto riguardante, appunto, la classe."
   ]
  },
  {
   "cell_type": "code",
   "execution_count": 9,
   "metadata": {
    "collapsed": false
   },
   "outputs": [],
   "source": [
    "# Seleziona la parte del dataset contenente tutti gli attributi fino all'attributo di classe escluso.\n",
    "dataset_selection = dataset_subset.ix[:, 0:11]\n",
    "\n",
    "# Seleziona la parte del dataset contenente solamente l'attributo relativo alla classe.\n",
    "dataset_selection_classes = dataset_subset.ix[:, 11]\n",
    "\n",
    "# Utilizzando Pandas, si possono rimuovere colonne del dataset in modo molto semplice.\n",
    "# Se si volessero, ad esempio, eliminare le colonne 5 e 6 relative agli attributi chiamati\n",
    "# \"free sulfur dioxide\" e \"total sulfur dioxide\", si potrebbe eseguire la seguente istruzione:\n",
    "# dataset_selection.drop(dataset_selection.columns[[5, 6]], axis=1, inplace=True)"
   ]
  },
  {
   "cell_type": "markdown",
   "metadata": {},
   "source": [
    "## Analisi delle componenti principali\n",
    "\n",
    "L'analisi delle componenti principali richiede che il dataset sia stato centrato rispetto alla media.\n",
    "\n",
    "Ciò equivale a calcolare centered_dataset = dataset - np.mean(dataset, axis=0).\n",
    "\n",
    "Si effettua, di seguito, tale operazione utilizzando Scikit-learn."
   ]
  },
  {
   "cell_type": "code",
   "execution_count": 10,
   "metadata": {
    "collapsed": true
   },
   "outputs": [],
   "source": [
    "# Se si volesse normalizzare anche rispetto alla deviazione standard,\n",
    "# bisognerebbe impostare il parametro with_std uguale a True.\n",
    "from sklearn.preprocessing import StandardScaler\n",
    "centered_dataset_selection = StandardScaler(with_std=False).fit_transform(dataset_selection)"
   ]
  },
  {
   "cell_type": "markdown",
   "metadata": {},
   "source": [
    "### Metodo 1: implementazione ed esecuzione della PCA mediante NumPy\n",
    "Si effettua, di seguito, l'implementazione e l'esecuzione della PCA mediante NumPy.\n",
    "L'implementazione è stata effettuata in due modi diversi:\n",
    "- principal_component_analysis: effettua la PCA determinando e riordinando autovettori e autovalori della matrice di covarianza del dataset.\n",
    "- principal_component_analysis_svd: effettua la PCA direttamente a partire dalla decomposizione ai valori singolari del dataset.\n",
    "\n",
    "N.B.: il segno dei risultati può differire tra le diverse implementazioni della PCA, dato che esso dipende dal verso degli assi principali individuati.\n",
    "\n",
    "È preferibile implementare la PCA mediante SVD in quanto in tale maniera non si deve effettuare il calcolo esplicito della matrice di covarianza, da cui possono derivare problemi di stabilità numerica. Una matrice che, sotto tale aspetto, risulta problematica è, ad esempio, la matrice di Läuchli."
   ]
  },
  {
   "cell_type": "code",
   "execution_count": 11,
   "metadata": {
    "collapsed": false
   },
   "outputs": [
    {
     "name": "stdout",
     "output_type": "stream",
     "text": [
      "Matrice degli assi principali:\n",
      "           0         1         2         3         4         5         6   \\\n",
      "0   0.005096 -0.029724 -0.945135  0.303679 -0.058818  0.073102  0.012309   \n",
      "1  -0.000371 -0.001908  0.021429 -0.012119  0.028280  0.664116  0.460514   \n",
      "2  -0.000289 -0.003671 -0.070547  0.017059 -0.032109 -0.527066 -0.250376   \n",
      "3  -0.009007  0.022587 -0.309398 -0.948656  0.060459 -0.004496  0.001072   \n",
      "4  -0.000082 -0.000353 -0.003097 -0.000393  0.009295 -0.065282  0.109490   \n",
      "..       ...       ...       ...       ...       ...       ...       ...   \n",
      "6  -0.975357 -0.220360  0.003193  0.002333 -0.010123  0.000619 -0.000342   \n",
      "7  -0.000005 -0.000030 -0.000788 -0.000145  0.000783  0.000279  0.001280   \n",
      "8   0.000335  0.003653  0.057459 -0.021585 -0.020012  0.116345 -0.039003   \n",
      "9  -0.000346 -0.000009 -0.015923  0.008549 -0.012566 -0.506735  0.843468   \n",
      "10  0.006130  0.018362  0.038642 -0.075742 -0.995053  0.034740  0.011668   \n",
      "\n",
      "          7         8         9         10  \n",
      "0   0.059874 -0.030459 -0.011010 -0.000965  \n",
      "1  -0.182359  0.552281  0.084839 -0.000409  \n",
      "2  -0.116181  0.793286  0.101977  0.000231  \n",
      "3   0.000796 -0.007292  0.001501 -0.000420  \n",
      "4  -0.109518  0.101296 -0.980508 -0.001539  \n",
      "..       ...       ...       ...       ...  \n",
      "6   0.000965 -0.001075 -0.000245 -0.000004  \n",
      "7   0.004848  0.001210 -0.001852  0.999984  \n",
      "8   0.960076  0.222809 -0.096675 -0.005028  \n",
      "9   0.123178 -0.068293  0.107042 -0.001256  \n",
      "10 -0.026843 -0.011172 -0.008700  0.000903  \n",
      "\n",
      "[11 rows x 11 columns]\n",
      "\n",
      "Autovalori:\n",
      " [ 1121.12985959    58.5343134      2.89552839     1.72930865     0.87724753\n",
      "     0.03868573     0.02343944     0.01139445     0.00989731     0.00151385\n",
      "     0.00000051]\n"
     ]
    }
   ],
   "source": [
    "def principal_component_analysis(dataset, k=None):\n",
    "    \"\"\"Effettua la PCA sulla matrice di covarianza di un dataset.\n",
    "\n",
    "    Si assume che il dataset sia stato precedentemente centrato rispetto alla media.\n",
    "    Se si volesse effettuare la PCA sulla matrice di correlazione del dataset,\n",
    "    basterebbe normalizzare il dataset rispetto alla deviazione standard\n",
    "    e poi applicare la PCA sulla matrice di covarianza di tale dataset.\n",
    "\n",
    "    Args:\n",
    "        dataset: matrice costituita sulle righe dai campioni e sulle colonne dalle feature.\n",
    "        k: None se non si vuole troncare, altrimenti numero di componenti principali da considerare.\n",
    "\n",
    "    Returns:\n",
    "        principal_axes: matrice avente come colonne gli assi principali determinati dalla PCA.\n",
    "        eigenvalues: autovalori determinati dalla PCA.\n",
    "\n",
    "    \"\"\"\n",
    "    # Calcola la matrice di covarianza del dataset.\n",
    "    cov_matrix = np.cov(dataset.T)\n",
    "\n",
    "    # Calcola autovalori e autovettori del dataset.\n",
    "    eigenvalues, eigenvectors = np.linalg.eig(cov_matrix)\n",
    "\n",
    "    # Ordina in modo decrescente le autocoppie rispetto ai loro autovalori.\n",
    "    indexes = np.argsort(-eigenvalues)\n",
    "    eigenvalues = eigenvalues[indexes]\n",
    "    principal_axes = eigenvectors[:, indexes]\n",
    "\n",
    "    # Effettua il troncamento se k è diverso da None.\n",
    "    if k is not None:\n",
    "        principal_axes = principal_axes[:, :k]\n",
    "\n",
    "    # Restituisce la matrice degli assi principali e il vettore degli autovalori.\n",
    "    return [principal_axes, eigenvalues]\n",
    "\n",
    "def principal_component_analysis_svd(dataset, k=None):\n",
    "    \"\"\"Effettua la PCA sulla matrice di covarianza di un dataset mediante la SVD.\n",
    "\n",
    "    Si assume che il dataset sia stato precedentemente centrato rispetto alla media.\n",
    "    Se si volesse effettuare la PCA sulla matrice di correlazione del dataset,\n",
    "    basterebbe normalizzare il dataset rispetto alla deviazione standard\n",
    "    e poi applicare la PCA sulla matrice di covarianza di tale dataset.\n",
    "\n",
    "    Args:\n",
    "        dataset: matrice costituita sulle righe dai campioni e sulle colonne dalle feature.\n",
    "        k: None se non si vuole troncare, altrimenti numero di componenti principali da considerare.\n",
    "\n",
    "    Returns:\n",
    "        principal_axes: matrice avente come colonne gli assi principali determinati dalla PCA.\n",
    "        eigenvalues: autovalori determinati dalla PCA.\n",
    "\n",
    "    \"\"\"\n",
    "    # Calcola la decomposizione ai valori singolari del dataset.\n",
    "    U, S, V = np.linalg.svd(dataset, full_matrices=False)\n",
    "\n",
    "    # Determina gli assi principali.\n",
    "    principal_axes = V.T\n",
    "\n",
    "    # Determina gli autovalori.\n",
    "    eigenvalues = (S ** 2) / dataset.shape[0]\n",
    "\n",
    "    # Restituisce la matrice degli assi principali e il vettore degli autovalori.\n",
    "    return [principal_axes, eigenvalues]\n",
    "\n",
    "def pca_projections(dataset, principal_axes):\n",
    "    \"\"\"Proietta un dataset sugli assi principali determinando le componenti principali.\n",
    "\n",
    "    Args:\n",
    "        dataset: matrice costituita sulle righe dai campioni e sulle colonne dalle feature.\n",
    "        principal_axes: matrice avente come colonne gli assi principali determinati dalla PCA.\n",
    "\n",
    "    Returns:\n",
    "        pca_components: matrice avente come colonne le componenti principali determinate dalla PCA.\n",
    "\n",
    "    \"\"\"\n",
    "    pca_components = dataset.dot(principal_axes)\n",
    "    return pca_components\n",
    "\n",
    "# Effettua la PCA sulla matrice di covarianza del dataset mediante la SVD.\n",
    "principal_axes, eigenvalues = principal_component_analysis_svd(centered_dataset_selection)\n",
    "print(\"Matrice degli assi principali:\\n\", pd.DataFrame(principal_axes))\n",
    "print(\"\\nAutovalori:\\n\", eigenvalues)\n",
    "\n",
    "# Effettua la PCA sulla matrice di covarianza del dataset.\n",
    "# principal_axes, eigenvalues = principal_component_analysis(centered_dataset_selection)\n",
    "# print(\"Matrice degli assi principali:\\n\", pd.DataFrame(principal_axes))\n",
    "# print(\"\\nAutovalori:\\n\", eigenvalues)"
   ]
  },
  {
   "cell_type": "markdown",
   "metadata": {
    "collapsed": true
   },
   "source": [
    "Si mostra, di seguito, il cerchio di correlazione tra le feature e le componenti principali determinate dalla PCA."
   ]
  },
  {
   "cell_type": "code",
   "execution_count": 12,
   "metadata": {
    "collapsed": false
   },
   "outputs": [
    {
     "name": "stdout",
     "output_type": "stream",
     "text": [
      "Coefficienti di correlazione:\n",
      "[[ 0.10143114 -0.13517905]\n",
      " [-0.07419118 -0.08710421]\n",
      " [-0.05145608 -0.14946821]\n",
      " [-0.21554826  0.12351346]\n",
      " [-0.05757511 -0.05684297]\n",
      " [-0.70330711  0.71086382]\n",
      " [-0.9986701  -0.05155484]\n",
      " [-0.08450397 -0.12743321]\n",
      " [ 0.07366697  0.18353979]\n",
      " [-0.06932453 -0.00041503]\n",
      " [ 0.21115974  0.14453576]]\n"
     ]
    },
    {
     "data": {
      "image/png": "[encoded data removed]",
      "text/plain": [
       "<matplotlib.figure.Figure at 0x7f84b1bfc438>"
      ]
     },
     "metadata": {},
     "output_type": "display_data"
    }
   ],
   "source": [
    "from scipy.stats import pearsonr\n",
    "\n",
    "def pca_correlations(dataset, principal_component_1, principal_component_2):\n",
    "    \"\"\"Calcola le correlazioni tra le feature e le prime due componenti principali determinate dalla PCA.\n",
    "\n",
    "    Args:\n",
    "        dataset: matrice costituita sulle righe dai campioni e sulle colonne dalle feature.\n",
    "        principal_component_1: prima componente principale determinata dalla PCA.\n",
    "        principal_component_2: seconda componente principale determinata dalla PCA.\n",
    "\n",
    "    Returns:\n",
    "        correlations: matrice avente come righe le correlazioni relative a ciascuna feature.\n",
    "\n",
    "    \"\"\"\n",
    "    correlations = []\n",
    "    for feature in dataset.T:\n",
    "        correlation_comp_1 = pearsonr(feature, principal_component_1)[0]\n",
    "        correlation_comp_2 = pearsonr(feature, principal_component_2)[0]\n",
    "        correlations.append([correlation_comp_1, correlation_comp_2])\n",
    "    correlations = np.array(correlations)\n",
    "    return correlations\n",
    "\n",
    "def draw_correlation_circle(correlations):\n",
    "    \"\"\"Disegna il cerchio delle correlazioni a partire dalla matrice delle correlazioni specificata.\n",
    "\n",
    "    Args:\n",
    "        correlations:  matrice avente come righe le correlazioni relative a ciascuna feature.\n",
    "\n",
    "    \"\"\"\n",
    "    fig, ax = plt.subplots()\n",
    "    plt.scatter(correlations[:, 0], correlations[:, 1])\n",
    "    for i, xy in enumerate(zip(correlations[:, 0], correlations[:, 1])):\n",
    "        ax.annotate(\"X{0}\".format(i), xy=xy) \n",
    "    circle = plt.Circle((0,0),1, facecolor='none')\n",
    "    fig.gca().add_artist(circle)\n",
    "    ax.set_aspect('equal')\n",
    "    ax.set_xlim(-1, 1)\n",
    "    ax.set_ylim(-1, 1)\n",
    "    plt.xlabel('PC1')\n",
    "    plt.ylabel('PC2')\n",
    "    plt.show()\n",
    "\n",
    "projections = pca_projections(centered_dataset_selection, principal_axes[:, :2])\n",
    "correlations = pca_correlations(centered_dataset_selection, projections[:, 0], projections[:, 1])\n",
    "print(\"Coefficienti di correlazione:\\n{0}\".format(correlations))\n",
    "draw_correlation_circle(correlations)"
   ]
  },
  {
   "cell_type": "markdown",
   "metadata": {},
   "source": [
    "Si mostra, di seguito, uno screeplot degli autovalori determinati dalla PCA."
   ]
  },
  {
   "cell_type": "code",
   "execution_count": 13,
   "metadata": {
    "collapsed": false
   },
   "outputs": [
    {
     "data": {
      "image/png": "[encoded data removed]",
      "text/plain": [
       "<matplotlib.figure.Figure at 0x7f84851b1ac8>"
      ]
     },
     "metadata": {},
     "output_type": "display_data"
    }
   ],
   "source": [
    "def draw_screeplot(eigenvalues, logarithm=False):\n",
    "    \"\"\"Disegna uno screeplot degli autovalori determinati dalla PCA.\n",
    "\n",
    "    Args:\n",
    "        eigenvalues: autovalori determinati dalla PCA.\n",
    "        logarithm: True se si vuole uno screeplot logaritmico, False altrimenti.\n",
    "\n",
    "    \"\"\"\n",
    "    plt.figure()\n",
    "    indexes = np.arange(len(eigenvalues)) + 1\n",
    "    if logarithm:\n",
    "        plt.plot(indexes, np.log(eigenvalues), 'o-')\n",
    "    else:\n",
    "        plt.plot(indexes, eigenvalues, 'o-')\n",
    "    plt.xlabel(\"Componente principale\")\n",
    "    plt.ylabel(\"Autovalore\")\n",
    "    plt.xticks(indexes)\n",
    "    plt.show()\n",
    "\n",
    "draw_screeplot(eigenvalues)"
   ]
  },
  {
   "cell_type": "markdown",
   "metadata": {},
   "source": [
    "Si mostrano, di seguito, le varianze cumulative conservate dalle componenti principali ottenute con la PCA."
   ]
  },
  {
   "cell_type": "code",
   "execution_count": 14,
   "metadata": {
    "collapsed": false
   },
   "outputs": [
    {
     "name": "stdout",
     "output_type": "stream",
     "text": [
      "Autovalore 0\t\t1121.1298595942947\n",
      "Varianza cumulativa:\t0.9459006412566635\n",
      "\n",
      "Autovalore 1\t\t58.53431339806316\n",
      "Varianza cumulativa:\t0.9952862178737937\n",
      "\n",
      "Autovalore 2\t\t2.895528392529\n",
      "Varianza cumulativa:\t0.9977291839047414\n",
      "\n",
      "Autovalore 3\t\t1.7293086548715575\n",
      "Varianza cumulativa:\t0.9991882068284246\n",
      "\n",
      "Autovalore 4\t\t0.8772475296200813\n",
      "Varianza cumulativa:\t0.9999283432129008\n",
      "\n",
      "Autovalore 5\t\t0.03868572593514449\n",
      "Varianza cumulativa:\t0.9999609824764584\n",
      "\n",
      "Autovalore 6\t\t0.02343944310028526\n",
      "Varianza cumulativa:\t0.9999807584052408\n",
      "\n",
      "Autovalore 7\t\t0.011394447421163316\n",
      "Varianza cumulativa:\t0.9999903719348693\n",
      "\n",
      "Autovalore 8\t\t0.009897307706528817\n",
      "Varianza cumulativa:\t0.9999987223232085\n",
      "\n",
      "Autovalore 9\t\t0.0015138535213842957\n",
      "Varianza cumulativa:\t0.9999999995659867\n",
      "\n",
      "Autovalore 10\t\t5.14414827882087e-07\n",
      "Varianza cumulativa:\t1.0\n",
      "\n"
     ]
    }
   ],
   "source": [
    "def cumulative_variances(eigenvalues):\n",
    "    \"\"\"Calcola le varianze cumulative conservate dalle componenti principali determinate dalla PCA.\n",
    "\n",
    "    Args:\n",
    "        eigenvalues: autovalori determinati dalla PCA.\n",
    "\n",
    "    Returns:\n",
    "        cumulative_vars: varianze cumulative conservate dalle componenti principali determinate dalla PCA.\n",
    "\n",
    "    \"\"\"\n",
    "    cumulative_vars = np.cumsum(eigenvalues) / np.sum(eigenvalues)\n",
    "    return cumulative_vars\n",
    "\n",
    "cumulative_vars = cumulative_variances(eigenvalues)\n",
    "for i, eigenvalue in enumerate(eigenvalues):\n",
    "    print(\"Autovalore {0}\\t\\t{1}\".format(i, eigenvalue))\n",
    "    print(\"Varianza cumulativa:\\t{0}\\n\".format(cumulative_vars[i]))"
   ]
  },
  {
   "cell_type": "markdown",
   "metadata": {},
   "source": [
    "Calcola le proiezioni del dataset rispetto ai primi due assi principali, in quanto solo in tale maniera si ottiene un contenuto informativo accettabile. Dato che sono stati considerati due assi principali, tali proiezioni giacciono su un piano bidimensionale."
   ]
  },
  {
   "cell_type": "code",
   "execution_count": 15,
   "metadata": {
    "collapsed": false
   },
   "outputs": [
    {
     "name": "stdout",
     "output_type": "stream",
     "text": [
      "\n",
      "Proiezioni nel nuovo sottospazio vettoriale:\n",
      "              0          1\n",
      "0     15.757257  -1.940469\n",
      "1    -19.515811   4.440632\n",
      "2     -4.630358  -2.446307\n",
      "3    -10.902158  -1.930887\n",
      "4     15.757257  -1.940469\n",
      "...         ...        ...\n",
      "1314   1.376996  16.378545\n",
      "1315  -6.991699  21.684203\n",
      "1316   5.940162  14.349308\n",
      "1317   1.373597  16.382163\n",
      "1318   6.399565   3.226228\n",
      "\n",
      "[1319 rows x 2 columns]\n"
     ]
    }
   ],
   "source": [
    "pca_components = pca_projections(centered_dataset_selection, principal_axes[:, :2])\n",
    "\n",
    "print(\"\\nProiezioni nel nuovo sottospazio vettoriale:\\n{0}\".format(pd.DataFrame(pca_components)))"
   ]
  },
  {
   "cell_type": "markdown",
   "metadata": {},
   "source": [
    "Si disegna, di seguito, un grafico di dispersione dei punti proiettati nel sottospazio individuato dai primi due assi principali. Ogni punto è colorato in base alla sua classe di appartenenza. Come si può notare, non si ha una situazione di separabilità lineare. Comunque la PCA ha permesso di ottenere un dataset ridotto, anche se bisogna interpretare opportunamente gli assi principali."
   ]
  },
  {
   "cell_type": "code",
   "execution_count": 16,
   "metadata": {
    "collapsed": false
   },
   "outputs": [
    {
     "data": {
      "image/png": "[encoded data removed]",
      "text/plain": [
       "<matplotlib.figure.Figure at 0x7f84851321d0>"
      ]
     },
     "metadata": {},
     "output_type": "display_data"
    }
   ],
   "source": [
    "plt.figure()\n",
    "targets = dataset_selection_classes\n",
    "plt.scatter(pca_components[:, 0], pca_components[:, 1], c=targets, cmap=plt.cm.Paired)\n",
    "plt.xlabel(\"X1\")\n",
    "plt.ylabel(\"X2\")\n",
    "plt.show()"
   ]
  },
  {
   "cell_type": "markdown",
   "metadata": {},
   "source": [
    "Consideriamo 3 componenti principali, anziché 2, per ottenere una visualizzazione in 3 dimensioni.\n",
    "\n",
    "N.B. In ogni caso lo screeplot suggerisce che bisognerebbe considerare solamente 2 componenti principali."
   ]
  },
  {
   "cell_type": "code",
   "execution_count": 17,
   "metadata": {
    "collapsed": false
   },
   "outputs": [
    {
     "name": "stdout",
     "output_type": "stream",
     "text": [
      "\n",
      "Proiezioni nel nuovo sottospazio vettoriale:\n",
      "[[ 15.75725671  -1.94046874   1.06676581]\n",
      " [-19.51581141   4.44063203   0.26756297]\n",
      " [ -4.63035848  -2.44630696   0.5384638 ]\n",
      " [-10.90215842  -1.93088713  -2.62783684]\n",
      " [ 15.75725671  -1.94046874   1.06676581]\n",
      " [  9.46542241  -1.31578279   1.07179989]\n",
      " [ -9.50264446  -3.57384931   0.66159059]\n",
      " [-51.91956609 -10.96731815  -0.24292285]\n",
      " [-15.36396198  -4.85961695   1.74095066]\n",
      " [-51.91956609 -10.96731815  -0.24292285]\n",
      " ..., \n",
      " [-32.1578589    5.83637204  -0.29038619]\n",
      " [ 11.48596283  12.52677238   1.86515386]\n",
      " [ 22.46369043   4.7904915    2.97153345]\n",
      " [  5.94016171  14.34930798   1.64433756]\n",
      " [  8.10808619  13.76404902   1.25807903]\n",
      " [  1.37699629  16.37854506   1.76865338]\n",
      " [ -6.99169882  21.68420277   1.88374732]\n",
      " [  5.94016171  14.34930798   1.64433756]\n",
      " [  1.37359665  16.3821633    2.04361465]\n",
      " [  6.3995647    3.22622829   1.74664901]]\n"
     ]
    },
    {
     "data": {
      "image/png": "[encoded data removed]",
      "text/plain": [
       "<matplotlib.figure.Figure at 0x7f8485126f60>"
      ]
     },
     "metadata": {},
     "output_type": "display_data"
    }
   ],
   "source": [
    "pca_components_3d = pca_projections(centered_dataset_selection, principal_axes[:, :3])\n",
    "\n",
    "print(\"\\nProiezioni nel nuovo sottospazio vettoriale:\\n{0}\".format(pca_components_3d))\n",
    "\n",
    "fig = plt.figure()\n",
    "ax = fig.add_subplot(\"111\", projection=\"3d\")\n",
    "targets = dataset_selection_classes\n",
    "ax.scatter(pca_components_3d[:, 0], pca_components_3d[:, 1], pca_components_3d[:, 2], c=targets, cmap=plt.cm.Paired)\n",
    "ax.set_xlabel(\"X1\")\n",
    "ax.set_ylabel(\"X2\")\n",
    "ax.set_zlabel(\"X3\")\n",
    "plt.show()"
   ]
  },
  {
   "cell_type": "markdown",
   "metadata": {},
   "source": [
    "### Metodo 2: esecuzione della PCA mediante Scikit-learn\n",
    "\n",
    "Si effettua, di seguito, l'esecuzione della PCA mediante Scikit-learn. La PCA è effettuata considerando la matrice di covarianza, quindi se si volesse considerare la matrice di correlazione bisognerebbe normalizzare il dataset rispetto alla deviazione standard. Si eseguono tutte le operazioni sul dataset centrato, per coerenza con il precedente metodo, anche se Scikit-learn centra automaticamente i dati rispetto alla loro media prima di effettuare la PCA."
   ]
  },
  {
   "cell_type": "code",
   "execution_count": 18,
   "metadata": {
    "collapsed": false
   },
   "outputs": [
    {
     "name": "stdout",
     "output_type": "stream",
     "text": [
      "Matrice degli assi principali:\n",
      "           0         1         2         3         4         5         6   \\\n",
      "0   0.005096 -0.029724 -0.945135  0.303679 -0.058818  0.073102  0.012309   \n",
      "1  -0.000371 -0.001908  0.021429 -0.012119  0.028280  0.664116  0.460514   \n",
      "2  -0.000289 -0.003671 -0.070547  0.017059 -0.032109 -0.527066 -0.250376   \n",
      "3  -0.009007  0.022587 -0.309398 -0.948656  0.060459 -0.004496  0.001072   \n",
      "4  -0.000082 -0.000353 -0.003097 -0.000393  0.009295 -0.065282  0.109490   \n",
      "..       ...       ...       ...       ...       ...       ...       ...   \n",
      "6  -0.975357 -0.220360  0.003193  0.002333 -0.010123  0.000619 -0.000342   \n",
      "7  -0.000005 -0.000030 -0.000788 -0.000145  0.000783  0.000279  0.001280   \n",
      "8   0.000335  0.003653  0.057459 -0.021585 -0.020012  0.116345 -0.039003   \n",
      "9  -0.000346 -0.000009 -0.015923  0.008549 -0.012566 -0.506735  0.843468   \n",
      "10  0.006130  0.018362  0.038642 -0.075742 -0.995053  0.034740  0.011668   \n",
      "\n",
      "          7         8         9         10  \n",
      "0   0.059874 -0.030459 -0.011010 -0.000965  \n",
      "1  -0.182359  0.552281  0.084839 -0.000409  \n",
      "2  -0.116181  0.793286  0.101977  0.000231  \n",
      "3   0.000796 -0.007292  0.001501 -0.000420  \n",
      "4  -0.109518  0.101296 -0.980508 -0.001539  \n",
      "..       ...       ...       ...       ...  \n",
      "6   0.000965 -0.001075 -0.000245 -0.000004  \n",
      "7   0.004848  0.001210 -0.001852  0.999984  \n",
      "8   0.960076  0.222809 -0.096675 -0.005028  \n",
      "9   0.123178 -0.068293  0.107042 -0.001256  \n",
      "10 -0.026843 -0.011172 -0.008700  0.000903  \n",
      "\n",
      "[11 rows x 11 columns]\n",
      "\n",
      "Percentuale di varianza cumulativa conservata dalle componenti principali:\n",
      "[ 0.94590064  0.99528622  0.99772918  0.99918821  0.99992834  0.99996098\n",
      "  0.99998076  0.99999037  0.99999872  1.          1.        ]\n"
     ]
    }
   ],
   "source": [
    "from sklearn.decomposition import PCA\n",
    "\n",
    "pca = PCA()\n",
    "pca.fit(centered_dataset_selection)\n",
    "\n",
    "print(\"Matrice degli assi principali:\\n\", pd.DataFrame(pca.components_.T))\n",
    "print(\"\\nPercentuale di varianza cumulativa conservata dalle componenti principali:\\n{0}\"\n",
    "      .format(np.cumsum(pca.explained_variance_ratio_)))"
   ]
  },
  {
   "cell_type": "markdown",
   "metadata": {},
   "source": [
    "La classe PCA di Scikit-learn non restituisce lo spettro della matrice di covarianza del dataset specificato.\n",
    "Calcoliamo, pertanto, gli autovalori di tale matrice partendo dalle percentuali di varianza già valutate. Tali autovalori saranno già ordinati in modo decrescente perché i valori di partenza lo erano."
   ]
  },
  {
   "cell_type": "code",
   "execution_count": 19,
   "metadata": {
    "collapsed": false
   },
   "outputs": [
    {
     "name": "stdout",
     "output_type": "stream",
     "text": [
      "Autovalori della matrice di covarianza:\n",
      "[ 1121.98048923    58.57872486     2.8977253      1.73062073     0.87791312\n",
      "     0.03871508     0.02345723     0.01140309     0.00990482     0.001515\n",
      "     0.00000051]\n"
     ]
    }
   ],
   "source": [
    "sk_eigenvalues = pca.explained_variance_ratio_ * np.trace(np.cov(centered_dataset_selection.T))\n",
    "print(\"Autovalori della matrice di covarianza:\\n{0}\".format(sk_eigenvalues))"
   ]
  },
  {
   "cell_type": "markdown",
   "metadata": {},
   "source": [
    "Si mostra, di seguito, uno screeplot degli autovalori determinati dalla PCA. Ciò è fatto richiamando l'apposita funzione definita precedentemente."
   ]
  },
  {
   "cell_type": "code",
   "execution_count": 20,
   "metadata": {
    "collapsed": false
   },
   "outputs": [
    {
     "data": {
      "image/png": "[encoded data removed]",
      "text/plain": [
       "<matplotlib.figure.Figure at 0x7f84850ae9b0>"
      ]
     },
     "metadata": {},
     "output_type": "display_data"
    }
   ],
   "source": [
    "draw_screeplot(sk_eigenvalues)"
   ]
  },
  {
   "cell_type": "markdown",
   "metadata": {},
   "source": [
    "Sono necessarie le prime due componenti principali per ottenere un contenuto informativo accettabile, pertanto applichiamo la PCA con k=2."
   ]
  },
  {
   "cell_type": "code",
   "execution_count": 21,
   "metadata": {
    "collapsed": false
   },
   "outputs": [
    {
     "name": "stdout",
     "output_type": "stream",
     "text": [
      "Proiezioni:\n",
      "[[ 15.75725671  -1.94046874]\n",
      " [-19.51581141   4.44063203]\n",
      " [ -4.63035848  -2.44630696]\n",
      " [-10.90215842  -1.93088713]\n",
      " [ 15.75725671  -1.94046874]\n",
      " [  9.46542241  -1.31578279]\n",
      " [ -9.50264446  -3.57384931]\n",
      " [-51.91956609 -10.96731815]\n",
      " [-15.36396198  -4.85961695]\n",
      " [-51.91956609 -10.96731815]\n",
      " ..., \n",
      " [-32.1578589    5.83637204]\n",
      " [ 11.48596283  12.52677238]\n",
      " [ 22.46369043   4.7904915 ]\n",
      " [  5.94016171  14.34930798]\n",
      " [  8.10808619  13.76404902]\n",
      " [  1.37699629  16.37854506]\n",
      " [ -6.99169882  21.68420277]\n",
      " [  5.94016171  14.34930798]\n",
      " [  1.37359665  16.3821633 ]\n",
      " [  6.3995647    3.22622829]]\n"
     ]
    }
   ],
   "source": [
    "pca = PCA(n_components=2)\n",
    "sk_projections = pca.fit_transform(centered_dataset_selection)\n",
    "print(\"Proiezioni:\\n{0}\".format(sk_projections))"
   ]
  },
  {
   "cell_type": "code",
   "execution_count": null,
   "metadata": {
    "collapsed": true
   },
   "outputs": [],
   "source": []
  }
 ],
 "metadata": {
  "kernelspec": {
   "display_name": "Python 3",
   "language": "python",
   "name": "python3"
  },
  "language_info": {
   "codemirror_mode": {
    "name": "ipython",
    "version": 3
   },
   "file_extension": ".py",
   "mimetype": "text/x-python",
   "name": "python",
   "nbconvert_exporter": "python",
   "pygments_lexer": "ipython3",
   "version": "3.4.3"
  }
 },
 "nbformat": 4,
 "nbformat_minor": 0
}
